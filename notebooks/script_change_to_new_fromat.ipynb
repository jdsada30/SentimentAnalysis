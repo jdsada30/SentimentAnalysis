{
 "cells": [
  {
   "cell_type": "markdown",
   "metadata": {},
   "source": [
    "## Script to Handle Experiments Logged in Old Format"
   ]
  },
  {
   "cell_type": "markdown",
   "metadata": {},
   "source": [
    "Not Updated!"
   ]
  },
  {
   "cell_type": "code",
   "execution_count": 1,
   "metadata": {
    "ExecuteTime": {
     "end_time": "2020-07-09T05:13:24.714673Z",
     "start_time": "2020-07-09T05:13:24.432868Z"
    }
   },
   "outputs": [],
   "source": [
    "import os\n",
    "import json\n",
    "\n",
    "import pandas as pd"
   ]
  },
  {
   "cell_type": "code",
   "execution_count": 2,
   "metadata": {
    "ExecuteTime": {
     "end_time": "2020-07-09T05:13:24.720806Z",
     "start_time": "2020-07-09T05:13:24.716074Z"
    }
   },
   "outputs": [],
   "source": [
    "EXPERIMENT_DIR = '../../logs-cil-text/xlnet-large-07-07-2020/'\n",
    "tags_csv_file = os.path.join(EXPERIMENT_DIR, 'tube/version_0/meta_tags.csv')\n",
    "\n",
    "with open(os.path.join(EXPERIMENT_DIR, 'config.txt'), 'r') as f:\n",
    "    cfg = json.load(f)\n",
    "\n",
    "# add new options to the dict with default values\n",
    "if 'multitask' not in cfg.keys(): cfg['multitask'] = False\n",
    "if 'use_tokn_fast' not in cfg.keys(): cfg['use_tokn_fast'] = False\n",
    "if 'accumulate_grad_batches' not in cfg.keys(): cfg['accumulate_grad_batches'] = 1\n",
    "if 'use_swa' not in cfg.keys(): cfg['use_swa'] = False"
   ]
  },
  {
   "cell_type": "code",
   "execution_count": 3,
   "metadata": {
    "ExecuteTime": {
     "end_time": "2020-07-09T05:13:24.844340Z",
     "start_time": "2020-07-09T05:13:24.824923Z"
    }
   },
   "outputs": [],
   "source": [
    "tags = pd.read_csv(tags_csv_file)\n",
    "\n",
    "cfg_list = []\n",
    "for k in cfg.keys():\n",
    "    cfg_list.append([k, cfg[k]])"
   ]
  },
  {
   "cell_type": "code",
   "execution_count": 4,
   "metadata": {
    "ExecuteTime": {
     "end_time": "2020-07-09T05:13:25.384426Z",
     "start_time": "2020-07-09T05:13:25.343445Z"
    }
   },
   "outputs": [
    {
     "data": {
      "text/html": [
       "<div>\n",
       "<style scoped>\n",
       "    .dataframe tbody tr th:only-of-type {\n",
       "        vertical-align: middle;\n",
       "    }\n",
       "\n",
       "    .dataframe tbody tr th {\n",
       "        vertical-align: top;\n",
       "    }\n",
       "\n",
       "    .dataframe thead th {\n",
       "        text-align: right;\n",
       "    }\n",
       "</style>\n",
       "<table border=\"1\" class=\"dataframe\">\n",
       "  <thead>\n",
       "    <tr style=\"text-align: right;\">\n",
       "      <th></th>\n",
       "      <th>key</th>\n",
       "      <th>value</th>\n",
       "    </tr>\n",
       "  </thead>\n",
       "  <tbody>\n",
       "    <tr>\n",
       "      <td>0</td>\n",
       "      <td>log_dir</td>\n",
       "      <td>/cluster/scratch/rarade/xlnet-large-07-07-2020</td>\n",
       "    </tr>\n",
       "    <tr>\n",
       "      <td>1</td>\n",
       "      <td>dataset</td>\n",
       "      <td>/cluster/home/rarade/cil-text-classification/in</td>\n",
       "    </tr>\n",
       "    <tr>\n",
       "      <td>2</td>\n",
       "      <td>embed_path</td>\n",
       "      <td>NaN</td>\n",
       "    </tr>\n",
       "    <tr>\n",
       "      <td>3</td>\n",
       "      <td>full</td>\n",
       "      <td>True</td>\n",
       "    </tr>\n",
       "    <tr>\n",
       "      <td>4</td>\n",
       "      <td>val_split</td>\n",
       "      <td>0.005</td>\n",
       "    </tr>\n",
       "  </tbody>\n",
       "</table>\n",
       "</div>"
      ],
      "text/plain": [
       "          key                                            value\n",
       "0     log_dir   /cluster/scratch/rarade/xlnet-large-07-07-2020\n",
       "1     dataset  /cluster/home/rarade/cil-text-classification/in\n",
       "2  embed_path                                              NaN\n",
       "3        full                                             True\n",
       "4   val_split                                            0.005"
      ]
     },
     "execution_count": 4,
     "metadata": {},
     "output_type": "execute_result"
    }
   ],
   "source": [
    "tags = pd.concat([tags, pd.DataFrame(cfg_list, columns=tags.columns)])\n",
    "tags.head()"
   ]
  },
  {
   "cell_type": "code",
   "execution_count": 5,
   "metadata": {
    "ExecuteTime": {
     "end_time": "2020-07-09T05:13:28.522344Z",
     "start_time": "2020-07-09T05:13:28.517155Z"
    }
   },
   "outputs": [],
   "source": [
    "tags.to_csv(tags_csv_file, index=False)"
   ]
  },
  {
   "cell_type": "code",
   "execution_count": null,
   "metadata": {},
   "outputs": [],
   "source": []
  }
 ],
 "metadata": {
  "kernelspec": {
   "display_name": "Python [conda env:.conda-ml] *",
   "language": "python",
   "name": "conda-env-.conda-ml-py"
  },
  "language_info": {
   "codemirror_mode": {
    "name": "ipython",
    "version": 3
   },
   "file_extension": ".py",
   "mimetype": "text/x-python",
   "name": "python",
   "nbconvert_exporter": "python",
   "pygments_lexer": "ipython3",
   "version": "3.6.9"
  }
 },
 "nbformat": 4,
 "nbformat_minor": 4
}
