{
 "cells": [
  {
   "cell_type": "markdown",
   "metadata": {
    "colab_type": "text",
    "id": "PlcYT2veJUa3"
   },
   "source": [
    "# Training GloVe on our own dataset"
   ]
  },
  {
   "cell_type": "code",
   "execution_count": 2,
   "metadata": {
    "colab": {},
    "colab_type": "code",
    "id": "rpfXX8AYJUa5"
   },
   "outputs": [],
   "source": [
    "import os\n",
    "import pandas as pd\n",
    "import numpy as np\n",
    "import pickle\n",
    "import random\n",
    "from scipy.sparse import *"
   ]
  },
  {
   "cell_type": "markdown",
   "metadata": {
    "colab_type": "text",
    "id": "8FozB32_JUa9"
   },
   "source": [
    "### Loading the co-occurence matrix"
   ]
  },
  {
   "cell_type": "code",
   "execution_count": 4,
   "metadata": {
    "colab": {},
    "colab_type": "code",
    "id": "lGZTvlmLJph9"
   },
   "outputs": [],
   "source": [
    "DATA_PATH = 'data'"
   ]
  },
  {
   "cell_type": "code",
   "execution_count": 13,
   "metadata": {
    "colab": {
     "base_uri": "https://localhost:8080/",
     "height": 34
    },
    "colab_type": "code",
    "id": "IT_IUx7kJUa-",
    "outputId": "698c574a-d21c-46a6-a7d2-5d91ac3d6eec",
    "tags": []
   },
   "outputs": [
    {
     "output_type": "stream",
     "name": "stdout",
     "text": "6496907 nonzero entries\n"
    }
   ],
   "source": [
    "with open(os.path.join(DATA_PATH, 'cooc.pkl'), 'rb') as f:\n",
    "        cooc = pickle.load(f)\n",
    "print(\"{} nonzero entries\".format(cooc.nnz))"
   ]
  },
  {
   "cell_type": "code",
   "execution_count": 14,
   "metadata": {
    "colab": {
     "base_uri": "https://localhost:8080/",
     "height": 34
    },
    "colab_type": "code",
    "id": "UruhtTqRJUbC",
    "outputId": "eac3e053-9bc5-49cc-c03b-aac57993fa65",
    "tags": []
   },
   "outputs": [
    {
     "output_type": "stream",
     "name": "stdout",
     "text": "using nmax = 100 , cooc.max() = 207302\n"
    }
   ],
   "source": [
    "nmax = 100\n",
    "print(\"using nmax =\", nmax, \", cooc.max() =\", cooc.max())"
   ]
  },
  {
   "cell_type": "code",
   "execution_count": 15,
   "metadata": {
    "colab": {
     "base_uri": "https://localhost:8080/",
     "height": 34
    },
    "colab_type": "code",
    "id": "L1-_7JUCJUbF",
    "outputId": "23c49b49-0fa1-48e4-b74e-1f822b1b8043",
    "tags": []
   },
   "outputs": [
    {
     "output_type": "stream",
     "name": "stdout",
     "text": "initializing embeddings\n"
    }
   ],
   "source": [
    "print(\"initializing embeddings\")\n",
    "embedding_dim = 30\n",
    "xs = np.random.normal(size=(cooc.shape[0], embedding_dim))\n",
    "ys = np.random.normal(size=(cooc.shape[1], embedding_dim))"
   ]
  },
  {
   "cell_type": "code",
   "execution_count": 16,
   "metadata": {
    "colab": {
     "base_uri": "https://localhost:8080/",
     "height": 140
    },
    "colab_type": "code",
    "id": "P7BY8G_6JUbI",
    "outputId": "d60ee6ae-1be3-4432-a61e-89c4360c2dbd"
   },
   "outputs": [
    {
     "output_type": "execute_result",
     "data": {
      "text/plain": "array([[207302,  73069,  57298, ...,      8,      4,      5],\n       [ 73069, 204448,  44668, ...,      5,      5,     25],\n       [ 57298,  44668, 126287, ...,      3,      6,     10],\n       ...,\n       [     8,      5,      3, ...,      5,      0,      0],\n       [     4,      5,      6, ...,      0,      5,      0],\n       [     5,     25,     10, ...,      0,      0,      5]])"
     },
     "metadata": {},
     "execution_count": 16
    }
   ],
   "source": [
    "cooc.toarray()"
   ]
  },
  {
   "cell_type": "markdown",
   "metadata": {
    "colab_type": "text",
    "id": "EKlhJo3UKOzr"
   },
   "source": [
    "### Training GloVe"
   ]
  },
  {
   "cell_type": "code",
   "execution_count": 7,
   "metadata": {
    "colab": {},
    "colab_type": "code",
    "id": "LGUY99bEJUbN"
   },
   "outputs": [],
   "source": [
    "epochs = 20"
   ]
  },
  {
   "cell_type": "code",
   "execution_count": 8,
   "metadata": {
    "colab": {},
    "colab_type": "code",
    "id": "Lwk_53R4JUbS"
   },
   "outputs": [],
   "source": [
    "eta = 0.001\n",
    "alpha = 3 / 4"
   ]
  },
  {
   "cell_type": "code",
   "execution_count": 10,
   "metadata": {
    "colab": {
     "base_uri": "https://localhost:8080/",
     "height": 369
    },
    "colab_type": "code",
    "id": "GDeQsDayJUbU",
    "outputId": "dca13a57-c3ae-486e-bb2f-a72b6ff517fb",
    "tags": []
   },
   "outputs": [
    {
     "output_type": "stream",
     "name": "stdout",
     "text": "epoch 0\nepoch 1\nepoch 2\nepoch 3\nepoch 4\nepoch 5\nepoch 6\nepoch 7\nepoch 8\nepoch 9\nepoch 10\nepoch 11\nepoch 12\nepoch 13\nepoch 14\nepoch 15\nepoch 16\nepoch 17\nepoch 18\nepoch 19\n"
    }
   ],
   "source": [
    "for epoch in range(epochs):\n",
    "        print(\"epoch {}\".format(epoch))\n",
    "        for ix, jy, n in zip(cooc.row, cooc.col, cooc.data):\n",
    "            logn = np.log(n)\n",
    "            fn = min(1.0, (n / nmax) ** alpha)\n",
    "            x, y = xs[ix, :], ys[jy, :]\n",
    "            scale = 2 * eta * fn * (logn - np.dot(x, y))\n",
    "            xs[ix, :] += scale * y\n",
    "            ys[jy, :] += scale * x\n"
   ]
  },
  {
   "cell_type": "code",
   "execution_count": 11,
   "metadata": {
    "colab": {},
    "colab_type": "code",
    "id": "hcunzXe7JUbW"
   },
   "outputs": [],
   "source": [
    "np.savez(os.path.join(DATA_PATH, 'embeddings'), xs, ys)"
   ]
  },
  {
   "cell_type": "code",
   "execution_count": 17,
   "metadata": {
    "colab": {},
    "colab_type": "code",
    "id": "CAGGars4JUbZ"
   },
   "outputs": [],
   "source": [
    " npzfile  = np.load(os.path.join(DATA_PATH, 'embeddings.npz'))"
   ]
  },
  {
   "cell_type": "code",
   "execution_count": 18,
   "metadata": {
    "colab": {},
    "colab_type": "code",
    "id": "-QDZb5NzJUbc"
   },
   "outputs": [],
   "source": [
    "xs = npzfile['arr_0']"
   ]
  },
  {
   "cell_type": "code",
   "execution_count": 19,
   "metadata": {
    "colab": {},
    "colab_type": "code",
    "id": "q2s48QECJUbf"
   },
   "outputs": [],
   "source": [
    "ys = npzfile['arr_1']"
   ]
  },
  {
   "cell_type": "markdown",
   "metadata": {
    "colab_type": "text",
    "id": "_eeowrjAJUbi"
   },
   "source": [
    "Loading vocab"
   ]
  },
  {
   "cell_type": "code",
   "execution_count": 20,
   "metadata": {
    "colab": {
     "base_uri": "https://localhost:8080/",
     "height": 34
    },
    "colab_type": "code",
    "id": "x0wwLGl5JUbi",
    "outputId": "b211a51d-64e4-4b92-82cc-5d67c2e77af1"
   },
   "outputs": [
    {
     "output_type": "execute_result",
     "data": {
      "text/plain": "21161"
     },
     "metadata": {},
     "execution_count": 20
    }
   ],
   "source": [
    "with open(os.path.join(DATA_PATH, 'vocab.pkl'), 'rb') as f:\n",
    "        vocab = pickle.load(f)\n",
    "vocab_size = len(vocab)\n",
    "vocab_size"
   ]
  },
  {
   "cell_type": "markdown",
   "metadata": {
    "colab_type": "text",
    "id": "kh5kruVIJUbl"
   },
   "source": [
    "### Create sentence embeddings by averaging every word in each sentence"
   ]
  },
  {
   "cell_type": "code",
   "execution_count": 21,
   "metadata": {
    "colab": {},
    "colab_type": "code",
    "id": "PEw3NysyJUbl"
   },
   "outputs": [],
   "source": [
    "idx_to_embedding =xs+ys"
   ]
  },
  {
   "cell_type": "code",
   "execution_count": 22,
   "metadata": {
    "colab": {},
    "colab_type": "code",
    "id": "EtJGXzMjJUbn"
   },
   "outputs": [],
   "source": [
    "def create_sent_embeddings(data_path):\n",
    "    embeddings = []\n",
    "    with open(data_path) as file:\n",
    "        for line in file:\n",
    "            tmp = np.zeros(embedding_dim)\n",
    "            count = 0\n",
    "            for val in line.strip().split():\n",
    "                IDX = vocab.get(val, -1)\n",
    "                if(IDX!= -1):\n",
    "                    tmp+=idx_to_embedding[IDX]\n",
    "                    count+=1\n",
    "            if(count!= 0):\n",
    "                tmp = tmp/count\n",
    "            embeddings.append(tmp)\n",
    "    return embeddings\n"
   ]
  },
  {
   "cell_type": "code",
   "execution_count": 23,
   "metadata": {
    "colab": {},
    "colab_type": "code",
    "id": "li8zBGoKJUbq"
   },
   "outputs": [],
   "source": [
    "pos_train = create_sent_embeddings(os.path.join(DATA_PATH, 'train_pos.txt'))"
   ]
  },
  {
   "cell_type": "code",
   "execution_count": 24,
   "metadata": {
    "colab": {},
    "colab_type": "code",
    "id": "UdgyPiTuJUbs"
   },
   "outputs": [],
   "source": [
    "pos_train_arr = np.array(pos_train)"
   ]
  },
  {
   "cell_type": "code",
   "execution_count": 25,
   "metadata": {
    "colab": {
     "base_uri": "https://localhost:8080/",
     "height": 34
    },
    "colab_type": "code",
    "id": "jvkoCrO2JUbv",
    "outputId": "56ceda38-669f-4558-cb6c-be5d15f39b0b"
   },
   "outputs": [
    {
     "output_type": "execute_result",
     "data": {
      "text/plain": "(100000, 30)"
     },
     "metadata": {},
     "execution_count": 25
    }
   ],
   "source": [
    "pos_train_arr.shape"
   ]
  },
  {
   "cell_type": "code",
   "execution_count": 26,
   "metadata": {
    "colab": {},
    "colab_type": "code",
    "id": "-jYwqck8JUby"
   },
   "outputs": [],
   "source": [
    "neg_train = create_sent_embeddings(os.path.join(DATA_PATH, 'train_neg.txt'))"
   ]
  },
  {
   "cell_type": "code",
   "execution_count": 27,
   "metadata": {
    "colab": {},
    "colab_type": "code",
    "id": "eQRIcGThJUb1"
   },
   "outputs": [],
   "source": [
    "neg_train_arr = np.array(neg_train)"
   ]
  },
  {
   "cell_type": "code",
   "execution_count": 28,
   "metadata": {
    "colab": {
     "base_uri": "https://localhost:8080/",
     "height": 34
    },
    "colab_type": "code",
    "id": "BElBaBE9JUb4",
    "outputId": "ed46a4d7-0b78-4849-c13f-ac64684264e1"
   },
   "outputs": [
    {
     "output_type": "execute_result",
     "data": {
      "text/plain": "(100000, 30)"
     },
     "metadata": {},
     "execution_count": 28
    }
   ],
   "source": [
    "neg_train_arr.shape"
   ]
  },
  {
   "cell_type": "code",
   "execution_count": 29,
   "metadata": {
    "colab": {},
    "colab_type": "code",
    "id": "_gj4wTIvJUb7"
   },
   "outputs": [],
   "source": [
    "poslabels = np.repeat(1,pos_train_arr.shape[0])"
   ]
  },
  {
   "cell_type": "code",
   "execution_count": 30,
   "metadata": {
    "colab": {},
    "colab_type": "code",
    "id": "N7ILmkjBJUcA"
   },
   "outputs": [],
   "source": [
    "neglabels = np.repeat(-1,neg_train_arr.shape[0])"
   ]
  },
  {
   "cell_type": "code",
   "execution_count": 31,
   "metadata": {
    "colab": {},
    "colab_type": "code",
    "id": "dpPjGefCJUcE"
   },
   "outputs": [],
   "source": [
    "labels = np.append(poslabels,neglabels)"
   ]
  },
  {
   "cell_type": "code",
   "execution_count": 32,
   "metadata": {
    "colab": {},
    "colab_type": "code",
    "id": "NbPrDiQLJUcH"
   },
   "outputs": [],
   "source": [
    "training_set = np.concatenate((pos_train_arr, neg_train_arr))"
   ]
  },
  {
   "cell_type": "code",
   "execution_count": 33,
   "metadata": {
    "colab": {},
    "colab_type": "code",
    "id": "G5wggQEpJUcJ"
   },
   "outputs": [],
   "source": [
    "from sklearn.model_selection import train_test_split\n",
    "from sklearn.naive_bayes import GaussianNB\n"
   ]
  },
  {
   "cell_type": "code",
   "execution_count": 34,
   "metadata": {
    "colab": {},
    "colab_type": "code",
    "id": "Ak6dp6GdJUcL"
   },
   "outputs": [],
   "source": [
    "from sklearn.ensemble import RandomForestClassifier\n",
    "from sklearn.datasets import make_classification\n",
    "from sklearn.metrics import classification_report, accuracy_score"
   ]
  },
  {
   "cell_type": "markdown",
   "metadata": {
    "colab_type": "text",
    "id": "iHkg983YJUcO"
   },
   "source": [
    "### Random Forest Classifier"
   ]
  },
  {
   "cell_type": "markdown",
   "metadata": {
    "colab_type": "text",
    "id": "BPJtySWHLBEv"
   },
   "source": [
    "Training and validation"
   ]
  },
  {
   "cell_type": "code",
   "execution_count": 35,
   "metadata": {
    "colab": {},
    "colab_type": "code",
    "id": "Kl5rd1qZJUcP"
   },
   "outputs": [],
   "source": [
    "X_train, X_valid, y_train, y_valid = train_test_split(training_set, labels, test_size=0.3, random_state=42)"
   ]
  },
  {
   "cell_type": "code",
   "execution_count": 36,
   "metadata": {
    "colab": {},
    "colab_type": "code",
    "id": "SRGiCK0eJUcR"
   },
   "outputs": [],
   "source": [
    "clf = RandomForestClassifier(156, verbose=True)"
   ]
  },
  {
   "cell_type": "code",
   "execution_count": 37,
   "metadata": {
    "colab": {
     "base_uri": "https://localhost:8080/",
     "height": 193
    },
    "colab_type": "code",
    "id": "_rZdItRiJUcX",
    "outputId": "0c9c8450-b55f-4061-efe1-a7ab43a68c31",
    "tags": []
   },
   "outputs": [
    {
     "output_type": "stream",
     "name": "stderr",
     "text": "[Parallel(n_jobs=1)]: Using backend SequentialBackend with 1 concurrent workers.\n[Parallel(n_jobs=1)]: Done 156 out of 156 | elapsed:  2.1min finished\n"
    },
    {
     "output_type": "execute_result",
     "data": {
      "text/plain": "RandomForestClassifier(n_estimators=156, verbose=True)"
     },
     "metadata": {},
     "execution_count": 37
    }
   ],
   "source": [
    "clf.fit(X_train,  y_train)"
   ]
  },
  {
   "cell_type": "code",
   "execution_count": 38,
   "metadata": {
    "colab": {
     "base_uri": "https://localhost:8080/",
     "height": 52
    },
    "colab_type": "code",
    "id": "kUd6McE5JUcZ",
    "outputId": "83657a1d-094d-4ec5-9658-0641d59c7556",
    "tags": []
   },
   "outputs": [
    {
     "output_type": "stream",
     "name": "stderr",
     "text": "[Parallel(n_jobs=1)]: Using backend SequentialBackend with 1 concurrent workers.\n[Parallel(n_jobs=1)]: Done 156 out of 156 | elapsed:    2.1s finished\n"
    }
   ],
   "source": [
    "preds= clf.predict(X_valid)"
   ]
  },
  {
   "cell_type": "code",
   "execution_count": 39,
   "metadata": {
    "colab": {
     "base_uri": "https://localhost:8080/",
     "height": 175
    },
    "colab_type": "code",
    "id": "oMGWRU5_JUcb",
    "outputId": "8fd4f651-417b-4985-bc2d-b21453669b57",
    "tags": []
   },
   "outputs": [
    {
     "output_type": "stream",
     "name": "stdout",
     "text": "precision    recall  f1-score   support\n\n          -1       0.69      0.58      0.63     30149\n           1       0.64      0.74      0.68     29851\n\n    accuracy                           0.66     60000\n   macro avg       0.66      0.66      0.66     60000\nweighted avg       0.66      0.66      0.66     60000\n\n"
    }
   ],
   "source": [
    "print(classification_report(y_valid, preds) )"
   ]
  },
  {
   "cell_type": "code",
   "execution_count": 40,
   "metadata": {
    "colab": {
     "base_uri": "https://localhost:8080/",
     "height": 34
    },
    "colab_type": "code",
    "id": "lfoV9S3zJUcd",
    "outputId": "41d254e1-14b2-4aaa-be1b-e0137b3a4447",
    "tags": []
   },
   "outputs": [
    {
     "output_type": "stream",
     "name": "stdout",
     "text": "0.6601\n"
    }
   ],
   "source": [
    "print( accuracy_score(y_valid, preds))"
   ]
  },
  {
   "cell_type": "markdown",
   "metadata": {
    "colab_type": "text",
    "id": "6Hjty5rZLFWn"
   },
   "source": [
    "Testing"
   ]
  },
  {
   "cell_type": "code",
   "execution_count": null,
   "metadata": {
    "colab": {},
    "colab_type": "code",
    "id": "35xmgev3sI59"
   },
   "outputs": [],
   "source": []
  },
  {
   "cell_type": "code",
   "execution_count": 41,
   "metadata": {
    "colab": {},
    "colab_type": "code",
    "id": "eK2OoaDZJUcg"
   },
   "outputs": [],
   "source": [
    "test_data = create_sent_embeddings(os.path.join(DATA_PATH, 'test_data.txt'))"
   ]
  },
  {
   "cell_type": "code",
   "execution_count": 42,
   "metadata": {
    "colab": {
     "base_uri": "https://localhost:8080/",
     "height": 34
    },
    "colab_type": "code",
    "id": "mboi-IwYJUcl",
    "outputId": "abf2522a-74bd-4e45-d756-9a2db6b05fba"
   },
   "outputs": [
    {
     "output_type": "execute_result",
     "data": {
      "text/plain": "(10000, 30)"
     },
     "metadata": {},
     "execution_count": 42
    }
   ],
   "source": [
    "test_embeddings = np.array(test_data)\n",
    "test_embeddings.shape"
   ]
  },
  {
   "cell_type": "code",
   "execution_count": 43,
   "metadata": {
    "colab": {
     "base_uri": "https://localhost:8080/",
     "height": 52
    },
    "colab_type": "code",
    "id": "SvjE6Uu2JUcn",
    "outputId": "443d9fc9-22e1-4406-d88d-ffcb258d2b68",
    "tags": []
   },
   "outputs": [
    {
     "output_type": "stream",
     "name": "stderr",
     "text": "[Parallel(n_jobs=1)]: Using backend SequentialBackend with 1 concurrent workers.\n[Parallel(n_jobs=1)]: Done 156 out of 156 | elapsed:    0.6s finished\n"
    }
   ],
   "source": [
    "test_predictions = clf.predict(test_embeddings)"
   ]
  },
  {
   "cell_type": "code",
   "execution_count": 44,
   "metadata": {
    "colab": {
     "base_uri": "https://localhost:8080/",
     "height": 1000
    },
    "colab_type": "code",
    "id": "tp5RsQG3JUco",
    "outputId": "a3a96afe-b736-4065-8f8d-64fb7c1b76ca",
    "tags": [
     "outputPrepend"
    ]
   },
   "outputs": [
    {
     "output_type": "stream",
     "name": "stdout",
     "text": "1\n7319 -1\n7320 1\n7321 -1\n7322 -1\n7323 1\n7324 1\n7325 -1\n7326 1\n7327 1\n7328 1\n7329 1\n7330 1\n7331 1\n7332 1\n7333 -1\n7334 1\n7335 1\n7336 -1\n7337 1\n7338 1\n7339 1\n7340 -1\n7341 -1\n7342 1\n7343 -1\n7344 -1\n7345 -1\n7346 1\n7347 -1\n7348 -1\n7349 -1\n7350 1\n7351 -1\n7352 -1\n7353 1\n7354 1\n7355 -1\n7356 1\n7357 -1\n7358 -1\n7359 -1\n7360 -1\n7361 -1\n7362 -1\n7363 1\n7364 -1\n7365 1\n7366 -1\n7367 1\n7368 -1\n7369 -1\n7370 1\n7371 1\n7372 1\n7373 1\n7374 1\n7375 -1\n7376 1\n7377 1\n7378 1\n7379 -1\n7380 -1\n7381 1\n7382 -1\n7383 -1\n7384 -1\n7385 1\n7386 1\n7387 1\n7388 1\n7389 -1\n7390 1\n7391 -1\n7392 1\n7393 1\n7394 1\n7395 -1\n7396 1\n7397 1\n7398 1\n7399 -1\n7400 1\n7401 -1\n7402 -1\n7403 -1\n7404 1\n7405 -1\n7406 -1\n7407 1\n7408 1\n7409 -1\n7410 -1\n7411 -1\n7412 1\n7413 1\n7414 1\n7415 1\n7416 -1\n7417 1\n7418 -1\n7419 -1\n7420 1\n7421 -1\n7422 1\n7423 1\n7424 -1\n7425 1\n7426 1\n7427 -1\n7428 -1\n7429 1\n7430 -1\n7431 -1\n7432 1\n7433 1\n7434 -1\n7435 -1\n7436 -1\n7437 1\n7438 -1\n7439 -1\n7440 -1\n7441 1\n7442 -1\n7443 1\n7444 -1\n7445 1\n7446 1\n7447 -1\n7448 -1\n7449 -1\n7450 -1\n7451 1\n7452 1\n7453 1\n7454 1\n7455 1\n7456 -1\n7457 1\n7458 1\n7459 1\n7460 1\n7461 -1\n7462 1\n7463 1\n7464 1\n7465 1\n7466 1\n7467 -1\n7468 1\n7469 -1\n7470 1\n7471 1\n7472 1\n7473 -1\n7474 -1\n7475 -1\n7476 -1\n7477 -1\n7478 -1\n7479 1\n7480 -1\n7481 1\n7482 1\n7483 1\n7484 1\n7485 -1\n7486 1\n7487 -1\n7488 -1\n7489 1\n7490 -1\n7491 1\n7492 1\n7493 -1\n7494 -1\n7495 1\n7496 1\n7497 -1\n7498 -1\n7499 -1\n7500 -1\n7501 1\n7502 -1\n7503 -1\n7504 1\n7505 1\n7506 1\n7507 -1\n7508 1\n7509 -1\n7510 1\n7511 -1\n7512 1\n7513 1\n7514 1\n7515 -1\n7516 -1\n7517 -1\n7518 1\n7519 -1\n7520 1\n7521 -1\n7522 -1\n7523 1\n7524 1\n7525 1\n7526 -1\n7527 -1\n7528 1\n7529 -1\n7530 -1\n7531 1\n7532 1\n7533 1\n7534 1\n7535 1\n7536 1\n7537 -1\n7538 -1\n7539 1\n7540 -1\n7541 -1\n7542 -1\n7543 -1\n7544 -1\n7545 1\n7546 1\n7547 -1\n7548 1\n7549 -1\n7550 1\n7551 -1\n7552 -1\n7553 1\n7554 1\n7555 1\n7556 1\n7557 -1\n7558 1\n7559 1\n7560 -1\n7561 -1\n7562 1\n7563 -1\n7564 -1\n7565 1\n7566 -1\n7567 -1\n7568 -1\n7569 1\n7570 1\n7571 -1\n7572 1\n7573 -1\n7574 1\n7575 -1\n7576 1\n7577 1\n7578 -1\n7579 -1\n7580 -1\n7581 -1\n7582 -1\n7583 -1\n7584 -1\n7585 -1\n7586 -1\n7587 1\n7588 -1\n7589 -1\n7590 1\n7591 -1\n7592 1\n7593 -1\n7594 -1\n7595 1\n7596 -1\n7597 1\n7598 1\n7599 1\n7600 -1\n7601 1\n7602 -1\n7603 -1\n7604 -1\n7605 -1\n7606 1\n7607 -1\n7608 1\n7609 1\n7610 -1\n7611 1\n7612 -1\n7613 -1\n7614 1\n7615 -1\n7616 -1\n7617 -1\n7618 1\n7619 -1\n7620 -1\n7621 -1\n7622 1\n7623 1\n7624 1\n7625 -1\n7626 1\n7627 1\n7628 1\n7629 1\n7630 -1\n7631 -1\n7632 -1\n7633 1\n7634 1\n7635 -1\n7636 -1\n7637 1\n7638 -1\n7639 -1\n7640 1\n7641 1\n7642 -1\n7643 1\n7644 1\n7645 1\n7646 1\n7647 1\n7648 1\n7649 1\n7650 -1\n7651 1\n7652 1\n7653 1\n7654 1\n7655 -1\n7656 1\n7657 1\n7658 1\n7659 -1\n7660 -1\n7661 -1\n7662 -1\n7663 1\n7664 1\n7665 -1\n7666 -1\n7667 1\n7668 1\n7669 1\n7670 1\n7671 1\n7672 1\n7673 1\n7674 -1\n7675 1\n7676 -1\n7677 1\n7678 1\n7679 -1\n7680 1\n7681 1\n7682 1\n7683 1\n7684 1\n7685 -1\n7686 -1\n7687 -1\n7688 1\n7689 1\n7690 -1\n7691 -1\n7692 -1\n7693 -1\n7694 -1\n7695 1\n7696 1\n7697 1\n7698 -1\n7699 1\n7700 1\n7701 1\n7702 1\n7703 1\n7704 1\n7705 -1\n7706 -1\n7707 1\n7708 -1\n7709 1\n7710 1\n7711 1\n7712 1\n7713 -1\n7714 -1\n7715 1\n7716 -1\n7717 1\n7718 1\n7719 1\n7720 1\n7721 -1\n7722 1\n7723 1\n7724 1\n7725 -1\n7726 1\n7727 1\n7728 1\n7729 -1\n7730 1\n7731 1\n7732 1\n7733 1\n7734 -1\n7735 1\n7736 1\n7737 -1\n7738 1\n7739 -1\n7740 1\n7741 -1\n7742 -1\n7743 1\n7744 1\n7745 1\n7746 1\n7747 1\n7748 -1\n7749 -1\n7750 1\n7751 -1\n7752 1\n7753 1\n7754 1\n7755 1\n7756 1\n7757 1\n7758 1\n7759 1\n7760 1\n7761 1\n7762 1\n7763 1\n7764 -1\n7765 -1\n7766 -1\n7767 -1\n7768 -1\n7769 1\n7770 -1\n7771 -1\n7772 -1\n7773 -1\n7774 -1\n7775 1\n7776 -1\n7777 -1\n7778 -1\n7779 1\n7780 1\n7781 1\n7782 1\n7783 1\n7784 -1\n7785 -1\n7786 1\n7787 1\n7788 1\n7789 1\n7790 -1\n7791 1\n7792 -1\n7793 1\n7794 1\n7795 -1\n7796 1\n7797 1\n7798 1\n7799 -1\n7800 -1\n7801 -1\n7802 1\n7803 -1\n7804 1\n7805 1\n7806 1\n7807 -1\n7808 1\n7809 -1\n7810 -1\n7811 -1\n7812 1\n7813 1\n7814 -1\n7815 1\n7816 1\n7817 -1\n7818 -1\n7819 -1\n7820 -1\n7821 1\n7822 -1\n7823 1\n7824 1\n7825 1\n7826 -1\n7827 1\n7828 1\n7829 -1\n7830 -1\n7831 -1\n7832 1\n7833 -1\n7834 1\n7835 1\n7836 1\n7837 -1\n7838 1\n7839 1\n7840 -1\n7841 -1\n7842 -1\n7843 -1\n7844 1\n7845 1\n7846 1\n7847 1\n7848 -1\n7849 1\n7850 1\n7851 1\n7852 -1\n7853 1\n7854 -1\n7855 -1\n7856 -1\n7857 -1\n7858 -1\n7859 1\n7860 1\n7861 1\n7862 1\n7863 1\n7864 1\n7865 1\n7866 1\n7867 1\n7868 -1\n7869 1\n7870 -1\n7871 1\n7872 1\n7873 1\n7874 1\n7875 1\n7876 -1\n7877 1\n7878 -1\n7879 1\n7880 1\n7881 -1\n7882 1\n7883 1\n7884 1\n7885 -1\n7886 -1\n7887 1\n7888 1\n7889 1\n7890 -1\n7891 1\n7892 1\n7893 1\n7894 1\n7895 -1\n7896 1\n7897 -1\n7898 1\n7899 1\n7900 1\n7901 -1\n7902 1\n7903 -1\n7904 -1\n7905 1\n7906 1\n7907 1\n7908 1\n7909 1\n7910 -1\n7911 -1\n7912 -1\n7913 -1\n7914 -1\n7915 1\n7916 1\n7917 1\n7918 1\n7919 -1\n7920 1\n7921 -1\n7922 1\n7923 1\n7924 -1\n7925 1\n7926 1\n7927 1\n7928 1\n7929 1\n7930 -1\n7931 1\n7932 1\n7933 1\n7934 1\n7935 -1\n7936 -1\n7937 1\n7938 -1\n7939 -1\n7940 1\n7941 1\n7942 1\n7943 1\n7944 -1\n7945 1\n7946 1\n7947 -1\n7948 -1\n7949 1\n7950 1\n7951 1\n7952 1\n7953 1\n7954 1\n7955 1\n7956 -1\n7957 1\n7958 -1\n7959 -1\n7960 1\n7961 -1\n7962 -1\n7963 -1\n7964 -1\n7965 -1\n7966 -1\n7967 1\n7968 1\n7969 1\n7970 -1\n7971 -1\n7972 -1\n7973 1\n7974 -1\n7975 1\n7976 -1\n7977 1\n7978 1\n7979 1\n7980 -1\n7981 1\n7982 -1\n7983 -1\n7984 1\n7985 1\n7986 -1\n7987 1\n7988 -1\n7989 1\n7990 -1\n7991 -1\n7992 1\n7993 1\n7994 -1\n7995 -1\n7996 -1\n7997 1\n7998 1\n7999 1\n8000 -1\n8001 -1\n8002 -1\n8003 1\n8004 1\n8005 1\n8006 -1\n8007 -1\n8008 1\n8009 1\n8010 1\n8011 -1\n8012 -1\n8013 -1\n8014 -1\n8015 -1\n8016 1\n8017 -1\n8018 -1\n8019 1\n8020 1\n8021 1\n8022 -1\n8023 -1\n8024 1\n8025 1\n8026 1\n8027 1\n8028 1\n8029 -1\n8030 1\n8031 -1\n8032 -1\n8033 -1\n8034 1\n8035 1\n8036 1\n8037 -1\n8038 1\n8039 1\n8040 -1\n8041 -1\n8042 -1\n8043 1\n8044 -1\n8045 -1\n8046 -1\n8047 -1\n8048 1\n8049 -1\n8050 -1\n8051 1\n8052 -1\n8053 1\n8054 1\n8055 1\n8056 -1\n8057 1\n8058 -1\n8059 1\n8060 -1\n8061 -1\n8062 1\n8063 1\n8064 1\n8065 1\n8066 -1\n8067 1\n8068 1\n8069 1\n8070 -1\n8071 1\n8072 1\n8073 1\n8074 1\n8075 -1\n8076 -1\n8077 -1\n8078 1\n8079 1\n8080 1\n8081 1\n8082 -1\n8083 1\n8084 1\n8085 1\n8086 -1\n8087 1\n8088 -1\n8089 1\n8090 -1\n8091 1\n8092 -1\n8093 1\n8094 1\n8095 -1\n8096 -1\n8097 1\n8098 1\n8099 -1\n8100 -1\n8101 -1\n8102 -1\n8103 -1\n8104 -1\n8105 1\n8106 1\n8107 1\n8108 1\n8109 -1\n8110 -1\n8111 1\n8112 -1\n8113 -1\n8114 1\n8115 1\n8116 -1\n8117 1\n8118 1\n8119 1\n8120 -1\n8121 -1\n8122 -1\n8123 1\n8124 1\n8125 -1\n8126 1\n8127 1\n8128 -1\n8129 1\n8130 1\n8131 -1\n8132 -1\n8133 1\n8134 -1\n8135 -1\n8136 1\n8137 -1\n8138 1\n8139 1\n8140 1\n8141 1\n8142 1\n8143 1\n8144 1\n8145 1\n8146 -1\n8147 1\n8148 1\n8149 1\n8150 1\n8151 1\n8152 -1\n8153 -1\n8154 -1\n8155 1\n8156 1\n8157 -1\n8158 -1\n8159 1\n8160 -1\n8161 -1\n8162 -1\n8163 1\n8164 1\n8165 1\n8166 1\n8167 1\n8168 -1\n8169 -1\n8170 -1\n8171 -1\n8172 -1\n8173 -1\n8174 -1\n8175 -1\n8176 -1\n8177 -1\n8178 -1\n8179 -1\n8180 -1\n8181 1\n8182 1\n8183 1\n8184 1\n8185 -1\n8186 -1\n8187 -1\n8188 1\n8189 -1\n8190 -1\n8191 -1\n8192 -1\n8193 -1\n8194 1\n8195 1\n8196 1\n8197 1\n8198 1\n8199 1\n8200 1\n8201 1\n8202 -1\n8203 1\n8204 1\n8205 1\n8206 1\n8207 1\n8208 -1\n8209 -1\n8210 -1\n8211 1\n8212 -1\n8213 -1\n8214 -1\n8215 1\n8216 1\n8217 1\n8218 1\n8219 -1\n8220 -1\n8221 -1\n8222 1\n8223 1\n8224 1\n8225 -1\n8226 1\n8227 1\n8228 1\n8229 -1\n8230 1\n8231 -1\n8232 1\n8233 -1\n8234 -1\n8235 -1\n8236 -1\n8237 -1\n8238 -1\n8239 1\n8240 1\n8241 -1\n8242 1\n8243 -1\n8244 1\n8245 1\n8246 1\n8247 -1\n8248 1\n8249 1\n8250 1\n8251 -1\n8252 1\n8253 -1\n8254 1\n8255 -1\n8256 1\n8257 -1\n8258 -1\n8259 1\n8260 -1\n8261 -1\n8262 1\n8263 -1\n8264 1\n8265 1\n8266 1\n8267 1\n8268 -1\n8269 -1\n8270 -1\n8271 -1\n8272 1\n8273 -1\n8274 1\n8275 -1\n8276 1\n8277 -1\n8278 -1\n8279 1\n8280 -1\n8281 -1\n8282 -1\n8283 -1\n8284 1\n8285 1\n8286 1\n8287 -1\n8288 1\n8289 1\n8290 1\n8291 -1\n8292 -1\n8293 -1\n8294 -1\n8295 -1\n8296 1\n8297 1\n8298 1\n8299 1\n8300 -1\n8301 -1\n8302 1\n8303 1\n8304 1\n8305 1\n8306 1\n8307 1\n8308 1\n8309 -1\n8310 -1\n8311 1\n8312 1\n8313 1\n8314 1\n8315 -1\n8316 1\n8317 -1\n8318 -1\n8319 -1\n8320 -1\n8321 -1\n8322 1\n8323 -1\n8324 1\n8325 1\n8326 1\n8327 -1\n8328 -1\n8329 1\n8330 1\n8331 -1\n8332 1\n8333 -1\n8334 -1\n8335 -1\n8336 1\n8337 1\n8338 -1\n8339 1\n8340 1\n8341 1\n8342 1\n8343 1\n8344 -1\n8345 -1\n8346 1\n8347 -1\n8348 -1\n8349 1\n8350 1\n8351 -1\n8352 1\n8353 1\n8354 -1\n8355 -1\n8356 1\n8357 1\n8358 -1\n8359 1\n8360 -1\n8361 -1\n8362 1\n8363 1\n8364 1\n8365 1\n8366 1\n8367 -1\n8368 1\n8369 1\n8370 -1\n8371 1\n8372 -1\n8373 1\n8374 1\n8375 1\n8376 1\n8377 -1\n8378 -1\n8379 1\n8380 1\n8381 1\n8382 1\n8383 -1\n8384 1\n8385 -1\n8386 1\n8387 -1\n8388 1\n8389 -1\n8390 -1\n8391 -1\n8392 1\n8393 1\n8394 -1\n8395 1\n8396 1\n8397 -1\n8398 -1\n8399 1\n8400 1\n8401 1\n8402 -1\n8403 1\n8404 1\n8405 -1\n8406 -1\n8407 1\n8408 -1\n8409 -1\n8410 1\n8411 -1\n8412 -1\n8413 -1\n8414 -1\n8415 -1\n8416 -1\n8417 1\n8418 -1\n8419 1\n8420 -1\n8421 1\n8422 1\n8423 1\n8424 -1\n8425 1\n8426 1\n8427 -1\n8428 -1\n8429 1\n8430 1\n8431 1\n8432 -1\n8433 1\n8434 -1\n8435 1\n8436 1\n8437 -1\n8438 -1\n8439 1\n8440 1\n8441 1\n8442 -1\n8443 -1\n8444 1\n8445 1\n8446 1\n8447 1\n8448 -1\n8449 1\n8450 -1\n8451 -1\n8452 1\n8453 -1\n8454 -1\n8455 1\n8456 -1\n8457 -1\n8458 1\n8459 1\n8460 1\n8461 -1\n8462 1\n8463 -1\n8464 1\n8465 1\n8466 -1\n8467 -1\n8468 -1\n8469 1\n8470 -1\n8471 1\n8472 1\n8473 1\n8474 -1\n8475 -1\n8476 1\n8477 -1\n8478 1\n8479 -1\n8480 1\n8481 1\n8482 -1\n8483 1\n8484 -1\n8485 1\n8486 -1\n8487 1\n8488 1\n8489 1\n8490 -1\n8491 -1\n8492 1\n8493 -1\n8494 -1\n8495 1\n8496 -1\n8497 -1\n8498 1\n8499 1\n8500 -1\n8501 1\n8502 1\n8503 -1\n8504 1\n8505 -1\n8506 1\n8507 -1\n8508 1\n8509 1\n8510 -1\n8511 -1\n8512 -1\n8513 -1\n8514 1\n8515 -1\n8516 -1\n8517 -1\n8518 -1\n8519 1\n8520 1\n8521 1\n8522 1\n8523 -1\n8524 1\n8525 -1\n8526 -1\n8527 -1\n8528 -1\n8529 1\n8530 1\n8531 1\n8532 1\n8533 1\n8534 1\n8535 -1\n8536 1\n8537 1\n8538 1\n8539 1\n8540 1\n8541 -1\n8542 -1\n8543 -1\n8544 -1\n8545 -1\n8546 1\n8547 1\n8548 1\n8549 1\n8550 1\n8551 1\n8552 -1\n8553 -1\n8554 -1\n8555 -1\n8556 -1\n8557 1\n8558 -1\n8559 1\n8560 1\n8561 -1\n8562 1\n8563 -1\n8564 -1\n8565 -1\n8566 -1\n8567 -1\n8568 1\n8569 1\n8570 -1\n8571 -1\n8572 -1\n8573 -1\n8574 1\n8575 1\n8576 1\n8577 1\n8578 1\n8579 -1\n8580 1\n8581 1\n8582 1\n8583 -1\n8584 1\n8585 -1\n8586 -1\n8587 -1\n8588 1\n8589 -1\n8590 -1\n8591 -1\n8592 -1\n8593 1\n8594 1\n8595 1\n8596 1\n8597 -1\n8598 -1\n8599 1\n8600 -1\n8601 -1\n8602 1\n8603 -1\n8604 -1\n8605 -1\n8606 -1\n8607 -1\n8608 -1\n8609 -1\n8610 -1\n8611 1\n8612 -1\n8613 1\n8614 1\n8615 -1\n8616 -1\n8617 -1\n8618 1\n8619 -1\n8620 1\n8621 1\n8622 1\n8623 -1\n8624 -1\n8625 1\n8626 1\n8627 1\n8628 1\n8629 -1\n8630 -1\n8631 1\n8632 1\n8633 1\n8634 1\n8635 1\n8636 -1\n8637 -1\n8638 1\n8639 1\n8640 -1\n8641 1\n8642 -1\n8643 1\n8644 -1\n8645 -1\n8646 1\n8647 -1\n8648 -1\n8649 1\n8650 -1\n8651 1\n8652 1\n8653 1\n8654 1\n8655 -1\n8656 -1\n8657 -1\n8658 1\n8659 -1\n8660 -1\n8661 -1\n8662 1\n8663 1\n8664 1\n8665 -1\n8666 -1\n8667 1\n8668 1\n8669 1\n8670 -1\n8671 1\n8672 1\n8673 1\n8674 1\n8675 -1\n8676 1\n8677 1\n8678 1\n8679 -1\n8680 1\n8681 -1\n8682 1\n8683 -1\n8684 -1\n8685 -1\n8686 1\n8687 -1\n8688 -1\n8689 -1\n8690 1\n8691 1\n8692 1\n8693 1\n8694 1\n8695 -1\n8696 1\n8697 1\n8698 1\n8699 -1\n8700 1\n8701 -1\n8702 1\n8703 1\n8704 -1\n8705 1\n8706 1\n8707 1\n8708 1\n8709 1\n8710 1\n8711 1\n8712 1\n8713 -1\n8714 1\n8715 -1\n8716 -1\n8717 1\n8718 1\n8719 1\n8720 -1\n8721 1\n8722 -1\n8723 -1\n8724 -1\n8725 1\n8726 -1\n8727 1\n8728 -1\n8729 -1\n8730 1\n8731 1\n8732 -1\n8733 -1\n8734 -1\n8735 -1\n8736 -1\n8737 1\n8738 -1\n8739 1\n8740 -1\n8741 -1\n8742 1\n8743 -1\n8744 -1\n8745 1\n8746 -1\n8747 1\n8748 -1\n8749 1\n8750 1\n8751 1\n8752 1\n8753 1\n8754 1\n8755 -1\n8756 1\n8757 -1\n8758 -1\n8759 -1\n8760 1\n8761 1\n8762 -1\n8763 -1\n8764 1\n8765 -1\n8766 -1\n8767 -1\n8768 -1\n8769 -1\n8770 1\n8771 1\n8772 1\n8773 1\n8774 -1\n8775 1\n8776 1\n8777 1\n8778 1\n8779 1\n8780 1\n8781 1\n8782 -1\n8783 -1\n8784 -1\n8785 1\n8786 -1\n8787 1\n8788 -1\n8789 1\n8790 1\n8791 1\n8792 -1\n8793 1\n8794 1\n8795 -1\n8796 1\n8797 1\n8798 1\n8799 -1\n8800 1\n8801 1\n8802 1\n8803 -1\n8804 -1\n8805 1\n8806 1\n8807 1\n8808 1\n8809 1\n8810 -1\n8811 -1\n8812 -1\n8813 1\n8814 -1\n8815 1\n8816 1\n8817 1\n8818 1\n8819 1\n8820 1\n8821 -1\n8822 -1\n8823 -1\n8824 1\n8825 1\n8826 -1\n8827 -1\n8828 -1\n8829 1\n8830 1\n8831 -1\n8832 1\n8833 -1\n8834 1\n8835 1\n8836 1\n8837 -1\n8838 1\n8839 -1\n8840 1\n8841 -1\n8842 -1\n8843 1\n8844 -1\n8845 -1\n8846 1\n8847 1\n8848 1\n8849 -1\n8850 -1\n8851 1\n8852 -1\n8853 1\n8854 -1\n8855 1\n8856 -1\n8857 1\n8858 1\n8859 1\n8860 1\n8861 1\n8862 -1\n8863 1\n8864 -1\n8865 -1\n8866 -1\n8867 1\n8868 1\n8869 1\n8870 1\n8871 -1\n8872 1\n8873 1\n8874 -1\n8875 -1\n8876 -1\n8877 -1\n8878 -1\n8879 1\n8880 -1\n8881 1\n8882 -1\n8883 -1\n8884 -1\n8885 1\n8886 1\n8887 1\n8888 -1\n8889 1\n8890 1\n8891 1\n8892 -1\n8893 -1\n8894 -1\n8895 -1\n8896 -1\n8897 -1\n8898 1\n8899 1\n8900 -1\n8901 1\n8902 1\n8903 1\n8904 1\n8905 -1\n8906 -1\n8907 -1\n8908 1\n8909 1\n8910 -1\n8911 -1\n8912 1\n8913 1\n8914 1\n8915 1\n8916 1\n8917 -1\n8918 1\n8919 -1\n8920 -1\n8921 -1\n8922 1\n8923 -1\n8924 -1\n8925 1\n8926 1\n8927 -1\n8928 1\n8929 1\n8930 -1\n8931 1\n8932 -1\n8933 1\n8934 1\n8935 1\n8936 1\n8937 1\n8938 -1\n8939 1\n8940 1\n8941 1\n8942 1\n8943 1\n8944 1\n8945 -1\n8946 1\n8947 1\n8948 -1\n8949 1\n8950 1\n8951 1\n8952 1\n8953 -1\n8954 -1\n8955 1\n8956 -1\n8957 1\n8958 -1\n8959 1\n8960 1\n8961 1\n8962 -1\n8963 1\n8964 1\n8965 -1\n8966 -1\n8967 -1\n8968 -1\n8969 1\n8970 -1\n8971 1\n8972 -1\n8973 1\n8974 1\n8975 1\n8976 1\n8977 -1\n8978 -1\n8979 1\n8980 -1\n8981 1\n8982 1\n8983 -1\n8984 1\n8985 1\n8986 -1\n8987 -1\n8988 1\n8989 -1\n8990 1\n8991 1\n8992 1\n8993 -1\n8994 1\n8995 -1\n8996 1\n8997 1\n8998 -1\n8999 1\n9000 -1\n9001 -1\n9002 1\n9003 1\n9004 1\n9005 1\n9006 -1\n9007 -1\n9008 -1\n9009 1\n9010 1\n9011 1\n9012 1\n9013 1\n9014 1\n9015 -1\n9016 -1\n9017 -1\n9018 -1\n9019 1\n9020 1\n9021 -1\n9022 -1\n9023 -1\n9024 1\n9025 -1\n9026 -1\n9027 1\n9028 -1\n9029 1\n9030 -1\n9031 1\n9032 1\n9033 1\n9034 1\n9035 1\n9036 1\n9037 -1\n9038 -1\n9039 1\n9040 1\n9041 -1\n9042 1\n9043 1\n9044 1\n9045 -1\n9046 1\n9047 -1\n9048 -1\n9049 -1\n9050 -1\n9051 -1\n9052 1\n9053 1\n9054 1\n9055 1\n9056 1\n9057 1\n9058 1\n9059 -1\n9060 1\n9061 -1\n9062 1\n9063 1\n9064 -1\n9065 1\n9066 -1\n9067 -1\n9068 -1\n9069 -1\n9070 -1\n9071 1\n9072 -1\n9073 1\n9074 1\n9075 -1\n9076 -1\n9077 -1\n9078 -1\n9079 1\n9080 1\n9081 -1\n9082 1\n9083 1\n9084 -1\n9085 -1\n9086 1\n9087 1\n9088 1\n9089 1\n9090 1\n9091 -1\n9092 1\n9093 1\n9094 1\n9095 1\n9096 1\n9097 -1\n9098 1\n9099 1\n9100 -1\n9101 -1\n9102 -1\n9103 1\n9104 -1\n9105 1\n9106 1\n9107 -1\n9108 1\n9109 1\n9110 1\n9111 -1\n9112 -1\n9113 1\n9114 -1\n9115 1\n9116 -1\n9117 -1\n9118 1\n9119 1\n9120 -1\n9121 -1\n9122 -1\n9123 -1\n9124 -1\n9125 -1\n9126 -1\n9127 -1\n9128 -1\n9129 -1\n9130 -1\n9131 -1\n9132 1\n9133 -1\n9134 -1\n9135 -1\n9136 1\n9137 -1\n9138 -1\n9139 -1\n9140 -1\n9141 1\n9142 1\n9143 1\n9144 1\n9145 1\n9146 -1\n9147 1\n9148 1\n9149 -1\n9150 -1\n9151 -1\n9152 1\n9153 1\n9154 1\n9155 -1\n9156 -1\n9157 -1\n9158 -1\n9159 -1\n9160 -1\n9161 1\n9162 1\n9163 1\n9164 1\n9165 1\n9166 1\n9167 -1\n9168 -1\n9169 -1\n9170 -1\n9171 1\n9172 1\n9173 -1\n9174 1\n9175 -1\n9176 -1\n9177 1\n9178 1\n9179 1\n9180 1\n9181 -1\n9182 -1\n9183 -1\n9184 -1\n9185 -1\n9186 1\n9187 -1\n9188 -1\n9189 -1\n9190 1\n9191 1\n9192 1\n9193 1\n9194 -1\n9195 1\n9196 1\n9197 1\n9198 -1\n9199 1\n9200 1\n9201 1\n9202 1\n9203 1\n9204 1\n9205 -1\n9206 1\n9207 1\n9208 -1\n9209 1\n9210 1\n9211 -1\n9212 1\n9213 1\n9214 1\n9215 1\n9216 1\n9217 1\n9218 -1\n9219 1\n9220 1\n9221 1\n9222 1\n9223 1\n9224 1\n9225 -1\n9226 -1\n9227 1\n9228 -1\n9229 -1\n9230 -1\n9231 1\n9232 1\n9233 1\n9234 -1\n9235 1\n9236 1\n9237 -1\n9238 -1\n9239 1\n9240 1\n9241 -1\n9242 -1\n9243 1\n9244 1\n9245 1\n9246 -1\n9247 -1\n9248 -1\n9249 1\n9250 1\n9251 1\n9252 1\n9253 1\n9254 1\n9255 -1\n9256 -1\n9257 -1\n9258 1\n9259 -1\n9260 -1\n9261 1\n9262 -1\n9263 1\n9264 1\n9265 1\n9266 -1\n9267 -1\n9268 1\n9269 1\n9270 1\n9271 1\n9272 1\n9273 1\n9274 -1\n9275 -1\n9276 -1\n9277 1\n9278 -1\n9279 1\n9280 1\n9281 -1\n9282 1\n9283 1\n9284 1\n9285 -1\n9286 1\n9287 -1\n9288 -1\n9289 1\n9290 1\n9291 1\n9292 -1\n9293 -1\n9294 -1\n9295 1\n9296 1\n9297 -1\n9298 -1\n9299 -1\n9300 1\n9301 1\n9302 1\n9303 -1\n9304 1\n9305 1\n9306 1\n9307 -1\n9308 1\n9309 1\n9310 -1\n9311 1\n9312 -1\n9313 -1\n9314 1\n9315 1\n9316 1\n9317 -1\n9318 1\n9319 -1\n9320 -1\n9321 1\n9322 1\n9323 -1\n9324 -1\n9325 1\n9326 1\n9327 1\n9328 1\n9329 -1\n9330 -1\n9331 1\n9332 1\n9333 -1\n9334 -1\n9335 1\n9336 1\n9337 -1\n9338 -1\n9339 1\n9340 1\n9341 1\n9342 1\n9343 -1\n9344 -1\n9345 -1\n9346 1\n9347 -1\n9348 -1\n9349 -1\n9350 -1\n9351 -1\n9352 1\n9353 1\n9354 1\n9355 1\n9356 1\n9357 1\n9358 1\n9359 -1\n9360 1\n9361 1\n9362 -1\n9363 -1\n9364 1\n9365 -1\n9366 1\n9367 1\n9368 -1\n9369 1\n9370 1\n9371 -1\n9372 -1\n9373 -1\n9374 1\n9375 1\n9376 1\n9377 1\n9378 -1\n9379 -1\n9380 1\n9381 1\n9382 1\n9383 1\n9384 1\n9385 -1\n9386 1\n9387 -1\n9388 -1\n9389 -1\n9390 -1\n9391 1\n9392 -1\n9393 -1\n9394 1\n9395 -1\n9396 1\n9397 -1\n9398 1\n9399 1\n9400 1\n9401 1\n9402 1\n9403 -1\n9404 -1\n9405 1\n9406 1\n9407 -1\n9408 -1\n9409 1\n9410 -1\n9411 1\n9412 -1\n9413 1\n9414 1\n9415 1\n9416 -1\n9417 -1\n9418 -1\n9419 -1\n9420 1\n9421 1\n9422 -1\n9423 1\n9424 1\n9425 -1\n9426 1\n9427 -1\n9428 -1\n9429 -1\n9430 1\n9431 1\n9432 -1\n9433 1\n9434 1\n9435 1\n9436 1\n9437 -1\n9438 -1\n9439 1\n9440 -1\n9441 1\n9442 1\n9443 1\n9444 -1\n9445 -1\n9446 -1\n9447 1\n9448 1\n9449 -1\n9450 -1\n9451 -1\n9452 1\n9453 1\n9454 1\n9455 1\n9456 -1\n9457 1\n9458 -1\n9459 1\n9460 1\n9461 -1\n9462 1\n9463 1\n9464 -1\n9465 1\n9466 -1\n9467 -1\n9468 1\n9469 1\n9470 1\n9471 -1\n9472 -1\n9473 1\n9474 -1\n9475 -1\n9476 1\n9477 1\n9478 1\n9479 -1\n9480 1\n9481 1\n9482 -1\n9483 -1\n9484 1\n9485 -1\n9486 1\n9487 1\n9488 -1\n9489 1\n9490 1\n9491 1\n9492 -1\n9493 1\n9494 -1\n9495 1\n9496 1\n9497 -1\n9498 1\n9499 -1\n9500 1\n9501 1\n9502 -1\n9503 1\n9504 -1\n9505 1\n9506 1\n9507 -1\n9508 1\n9509 -1\n9510 1\n9511 -1\n9512 -1\n9513 1\n9514 -1\n9515 -1\n9516 1\n9517 -1\n9518 1\n9519 -1\n9520 1\n9521 -1\n9522 1\n9523 -1\n9524 1\n9525 -1\n9526 1\n9527 1\n9528 -1\n9529 -1\n9530 1\n9531 1\n9532 1\n9533 -1\n9534 1\n9535 1\n9536 1\n9537 -1\n9538 1\n9539 1\n9540 1\n9541 1\n9542 1\n9543 -1\n9544 1\n9545 1\n9546 -1\n9547 -1\n9548 1\n9549 -1\n9550 1\n9551 -1\n9552 -1\n9553 1\n9554 1\n9555 1\n9556 1\n9557 1\n9558 1\n9559 1\n9560 1\n9561 -1\n9562 -1\n9563 -1\n9564 -1\n9565 -1\n9566 -1\n9567 1\n9568 1\n9569 1\n9570 -1\n9571 1\n9572 -1\n9573 -1\n9574 -1\n9575 -1\n9576 -1\n9577 1\n9578 1\n9579 1\n9580 1\n9581 1\n9582 1\n9583 1\n9584 1\n9585 -1\n9586 1\n9587 -1\n9588 -1\n9589 1\n9590 -1\n9591 1\n9592 1\n9593 -1\n9594 -1\n9595 -1\n9596 -1\n9597 1\n9598 1\n9599 1\n9600 1\n9601 1\n9602 1\n9603 1\n9604 -1\n9605 -1\n9606 -1\n9607 -1\n9608 -1\n9609 -1\n9610 1\n9611 -1\n9612 -1\n9613 -1\n9614 -1\n9615 -1\n9616 -1\n9617 1\n9618 1\n9619 -1\n9620 -1\n9621 -1\n9622 -1\n9623 1\n9624 -1\n9625 1\n9626 -1\n9627 -1\n9628 -1\n9629 1\n9630 -1\n9631 -1\n9632 1\n9633 -1\n9634 -1\n9635 -1\n9636 -1\n9637 -1\n9638 1\n9639 -1\n9640 1\n9641 -1\n9642 1\n9643 -1\n9644 1\n9645 -1\n9646 -1\n9647 -1\n9648 1\n9649 -1\n9650 1\n9651 1\n9652 -1\n9653 1\n9654 -1\n9655 -1\n9656 -1\n9657 -1\n9658 1\n9659 1\n9660 -1\n9661 1\n9662 -1\n9663 -1\n9664 1\n9665 1\n9666 -1\n9667 1\n9668 -1\n9669 1\n9670 1\n9671 1\n9672 1\n9673 1\n9674 1\n9675 1\n9676 1\n9677 -1\n9678 -1\n9679 -1\n9680 -1\n9681 1\n9682 -1\n9683 1\n9684 1\n9685 1\n9686 1\n9687 1\n9688 1\n9689 1\n9690 1\n9691 1\n9692 1\n9693 -1\n9694 -1\n9695 -1\n9696 1\n9697 -1\n9698 1\n9699 -1\n9700 -1\n9701 -1\n9702 -1\n9703 1\n9704 1\n9705 -1\n9706 -1\n9707 1\n9708 -1\n9709 -1\n9710 1\n9711 1\n9712 -1\n9713 1\n9714 -1\n9715 1\n9716 -1\n9717 1\n9718 1\n9719 1\n9720 1\n9721 1\n9722 -1\n9723 1\n9724 1\n9725 -1\n9726 1\n9727 1\n9728 -1\n9729 1\n9730 1\n9731 -1\n9732 -1\n9733 1\n9734 1\n9735 1\n9736 -1\n9737 1\n9738 -1\n9739 1\n9740 -1\n9741 -1\n9742 1\n9743 1\n9744 -1\n9745 1\n9746 1\n9747 -1\n9748 -1\n9749 1\n9750 -1\n9751 1\n9752 1\n9753 -1\n9754 1\n9755 -1\n9756 1\n9757 1\n9758 1\n9759 -1\n9760 1\n9761 1\n9762 1\n9763 1\n9764 -1\n9765 -1\n9766 -1\n9767 -1\n9768 1\n9769 -1\n9770 1\n9771 1\n9772 -1\n9773 1\n9774 -1\n9775 -1\n9776 1\n9777 1\n9778 1\n9779 1\n9780 -1\n9781 1\n9782 -1\n9783 1\n9784 -1\n9785 -1\n9786 -1\n9787 -1\n9788 -1\n9789 -1\n9790 -1\n9791 -1\n9792 -1\n9793 -1\n9794 -1\n9795 -1\n9796 -1\n9797 -1\n9798 -1\n9799 -1\n9800 -1\n9801 -1\n9802 -1\n9803 -1\n9804 -1\n9805 1\n9806 1\n9807 -1\n9808 1\n9809 1\n9810 1\n9811 1\n9812 -1\n9813 1\n9814 -1\n9815 -1\n9816 -1\n9817 -1\n9818 1\n9819 1\n9820 -1\n9821 -1\n9822 1\n9823 -1\n9824 1\n9825 1\n9826 1\n9827 1\n9828 1\n9829 1\n9830 1\n9831 1\n9832 1\n9833 1\n9834 1\n9835 1\n9836 -1\n9837 -1\n9838 1\n9839 -1\n9840 1\n9841 1\n9842 1\n9843 -1\n9844 -1\n9845 -1\n9846 1\n9847 -1\n9848 -1\n9849 -1\n9850 -1\n9851 -1\n9852 -1\n9853 -1\n9854 1\n9855 1\n9856 1\n9857 -1\n9858 -1\n9859 -1\n9860 1\n9861 1\n9862 1\n9863 1\n9864 1\n9865 1\n9866 1\n9867 1\n9868 1\n9869 1\n9870 -1\n9871 -1\n9872 -1\n9873 1\n9874 1\n9875 1\n9876 1\n9877 1\n9878 1\n9879 1\n9880 1\n9881 1\n9882 1\n9883 1\n9884 1\n9885 -1\n9886 -1\n9887 1\n9888 -1\n9889 -1\n9890 -1\n9891 -1\n9892 -1\n9893 1\n9894 -1\n9895 -1\n9896 -1\n9897 -1\n9898 1\n9899 -1\n9900 -1\n9901 -1\n9902 1\n9903 1\n9904 1\n9905 1\n9906 1\n9907 1\n9908 1\n9909 1\n9910 -1\n9911 1\n9912 1\n9913 1\n9914 1\n9915 -1\n9916 1\n9917 1\n9918 -1\n9919 1\n9920 1\n9921 1\n9922 -1\n9923 1\n9924 -1\n9925 -1\n9926 -1\n9927 -1\n9928 1\n9929 1\n9930 -1\n9931 1\n9932 1\n9933 1\n9934 -1\n9935 -1\n9936 1\n9937 1\n9938 -1\n9939 -1\n9940 1\n9941 1\n9942 1\n9943 1\n9944 -1\n9945 -1\n9946 1\n9947 1\n9948 -1\n9949 1\n9950 1\n9951 1\n9952 1\n9953 1\n9954 1\n9955 1\n9956 -1\n9957 -1\n9958 -1\n9959 -1\n9960 -1\n9961 1\n9962 1\n9963 1\n9964 1\n9965 -1\n9966 1\n9967 1\n9968 1\n9969 1\n9970 -1\n9971 -1\n9972 -1\n9973 1\n9974 -1\n9975 -1\n9976 -1\n9977 -1\n9978 -1\n9979 1\n9980 -1\n9981 1\n9982 -1\n9983 1\n9984 1\n9985 -1\n9986 -1\n9987 -1\n9988 1\n9989 -1\n9990 1\n9991 1\n9992 1\n9993 1\n9994 1\n9995 -1\n9996 1\n9997 1\n9998 -1\n9999 -1\n10000 1\n"
    }
   ],
   "source": [
    "id_count = 1 \n",
    "output_arr = []\n",
    "for val in test_predictions:\n",
    "    print(id_count, val)\n",
    "    output_arr.append([id_count, val])\n",
    "    id_count+=1"
   ]
  },
  {
   "cell_type": "code",
   "execution_count": 45,
   "metadata": {
    "colab": {},
    "colab_type": "code",
    "id": "F1NbTEObJUcq"
   },
   "outputs": [],
   "source": [
    "output_df = pd.DataFrame(np.array(output_arr))\n",
    "output_df.columns=[\"Id\", \"Prediction\"]\n",
    "output_df.set_index('Id', inplace=True)\n",
    "output_df.to_csv(\"predfiles/Predictions_CIL_Glove_RFC.csv\")"
   ]
  },
  {
   "cell_type": "markdown",
   "metadata": {
    "colab_type": "text",
    "id": "18i3R_AaJUc4"
   },
   "source": [
    "# Stanford Glove Embeddings"
   ]
  },
  {
   "cell_type": "code",
   "execution_count": 41,
   "metadata": {
    "colab": {},
    "colab_type": "code",
    "id": "88dwFaht01JT"
   },
   "outputs": [],
   "source": [
    "EMBEDDING_PATH = 'embeddings/glove'"
   ]
  },
  {
   "cell_type": "code",
   "execution_count": 42,
   "metadata": {
    "colab": {},
    "colab_type": "code",
    "id": "304xp-IEJUc5"
   },
   "outputs": [],
   "source": [
    "import numpy as np\n",
    "from scipy import spatial\n",
    "import matplotlib.pyplot as plt\n",
    "from sklearn.manifold import TSNE\n",
    "import pandas as pd"
   ]
  },
  {
   "cell_type": "code",
   "execution_count": 43,
   "metadata": {
    "colab": {},
    "colab_type": "code",
    "id": "FhH46BrHJUc7"
   },
   "outputs": [],
   "source": [
    "embeddings_dict = {}"
   ]
  },
  {
   "cell_type": "markdown",
   "metadata": {
    "colab_type": "text",
    "id": "kfD_uvwQJUc9"
   },
   "source": [
    "Create dictionary with stanford embeddings"
   ]
  },
  {
   "cell_type": "code",
   "execution_count": 46,
   "metadata": {
    "colab": {},
    "colab_type": "code",
    "id": "3vqyExt8JUc-"
   },
   "outputs": [],
   "source": [
    "with open(os.path.join(EMBEDDING_PATH, \"glove.twitter.27B.25d.txt\"), 'r', encoding=\"utf-8\") as f:\n",
    "    for line in f:\n",
    "        values = line.split()\n",
    "        word = values[0]\n",
    "        vector = np.asarray(values[1:], \"float32\")\n",
    "        embeddings_dict[word] = vector"
   ]
  },
  {
   "cell_type": "markdown",
   "metadata": {
    "colab_type": "text",
    "id": "xFzNoTHfJUc_"
   },
   "source": [
    "Now use word embeddings to get sentence embeddings"
   ]
  },
  {
   "cell_type": "code",
   "execution_count": 47,
   "metadata": {
    "colab": {},
    "colab_type": "code",
    "id": "r6TdKoh60-Mc"
   },
   "outputs": [],
   "source": [
    "def create_sent_embeddings_stanford(data_path):\n",
    "    embeddings = []\n",
    "    with open(data_path) as file:\n",
    "        for line in file:\n",
    "            tmp = np.zeros(25)\n",
    "            count = 0\n",
    "            for val in line.strip().split():\n",
    "                if val in embeddings_dict:\n",
    "                    tmp+=embeddings_dict[val]\n",
    "                    count+=1\n",
    "            if(count!= 0):\n",
    "                tmp = tmp/count\n",
    "            embeddings.append(tmp)  \n",
    "    return embeddings"
   ]
  },
  {
   "cell_type": "code",
   "execution_count": 48,
   "metadata": {
    "colab": {},
    "colab_type": "code",
    "id": "8ud8cEg6JUc_"
   },
   "outputs": [],
   "source": [
    "pos_train = create_sent_embeddings_stanford(os.path.join(DATA_PATH, 'train_pos.txt'))"
   ]
  },
  {
   "cell_type": "code",
   "execution_count": 49,
   "metadata": {
    "colab": {
     "base_uri": "https://localhost:8080/",
     "height": 34
    },
    "colab_type": "code",
    "id": "ky6gSCQmJUdB",
    "outputId": "bc6d92e1-621a-4068-85f3-549746368d6d"
   },
   "outputs": [
    {
     "output_type": "execute_result",
     "data": {
      "text/plain": "(100000, 25)"
     },
     "metadata": {},
     "execution_count": 49
    }
   ],
   "source": [
    "pos_train_arr = np.array(pos_train)\n",
    "pos_train_arr.shape"
   ]
  },
  {
   "cell_type": "code",
   "execution_count": 50,
   "metadata": {
    "colab": {},
    "colab_type": "code",
    "id": "yApue9gXJUdE"
   },
   "outputs": [],
   "source": [
    "neg_train = create_sent_embeddings_stanford(os.path.join(DATA_PATH, 'train_neg.txt'))"
   ]
  },
  {
   "cell_type": "code",
   "execution_count": 51,
   "metadata": {
    "colab": {
     "base_uri": "https://localhost:8080/",
     "height": 34
    },
    "colab_type": "code",
    "id": "9lfP-HIQJUdF",
    "outputId": "18bbe284-7ab8-461f-99f7-3aa8f028ffef"
   },
   "outputs": [
    {
     "output_type": "execute_result",
     "data": {
      "text/plain": "(100000, 25)"
     },
     "metadata": {},
     "execution_count": 51
    }
   ],
   "source": [
    "neg_train_arr = np.array(neg_train)\n",
    "neg_train_arr.shape"
   ]
  },
  {
   "cell_type": "code",
   "execution_count": 52,
   "metadata": {
    "colab": {},
    "colab_type": "code",
    "id": "fAj7lfZnJUdK"
   },
   "outputs": [],
   "source": [
    "poslabels = np.repeat(1,pos_train_arr.shape[0])\n",
    "neglabels = np.repeat(-1,neg_train_arr.shape[0])"
   ]
  },
  {
   "cell_type": "code",
   "execution_count": 53,
   "metadata": {
    "colab": {},
    "colab_type": "code",
    "id": "Apx9L8EgJUdM"
   },
   "outputs": [],
   "source": [
    "labels = np.append(poslabels,neglabels)\n",
    "training_set = np.concatenate((pos_train_arr, neg_train_arr))"
   ]
  },
  {
   "cell_type": "code",
   "execution_count": 54,
   "metadata": {
    "colab": {},
    "colab_type": "code",
    "id": "7l8U99mIJUdN"
   },
   "outputs": [],
   "source": [
    "X_train, X_valid, y_train, y_valid = train_test_split(training_set, labels, test_size=0.3, random_state=42)"
   ]
  },
  {
   "cell_type": "code",
   "execution_count": 55,
   "metadata": {
    "colab": {
     "base_uri": "https://localhost:8080/",
     "height": 193
    },
    "colab_type": "code",
    "id": "26j1rEmlJUdP",
    "outputId": "30a8b21b-d148-4603-a25d-2caa66e6d9b5",
    "tags": []
   },
   "outputs": [
    {
     "output_type": "stream",
     "name": "stderr",
     "text": "[Parallel(n_jobs=1)]: Using backend SequentialBackend with 1 concurrent workers.\n[Parallel(n_jobs=1)]: Done 156 out of 156 | elapsed:  2.2min finished\n"
    },
    {
     "output_type": "execute_result",
     "data": {
      "text/plain": "RandomForestClassifier(n_estimators=156, n_jobs=1, verbose=True)"
     },
     "metadata": {},
     "execution_count": 55
    }
   ],
   "source": [
    "clf = RandomForestClassifier(156,n_jobs =1, verbose=True)\n",
    "clf.fit(X_train,  y_train)"
   ]
  },
  {
   "cell_type": "code",
   "execution_count": 81,
   "metadata": {
    "colab": {
     "base_uri": "https://localhost:8080/",
     "height": 52
    },
    "colab_type": "code",
    "id": "cI4ON1i73E6o",
    "outputId": "0409c817-3992-43da-d2af-1550d2a6f819"
   },
   "outputs": [
    {
     "name": "stderr",
     "output_type": "stream",
     "text": [
      "[Parallel(n_jobs=1)]: Using backend SequentialBackend with 1 concurrent workers.\n",
      "[Parallel(n_jobs=1)]: Done 156 out of 156 | elapsed:    2.3s finished\n"
     ]
    }
   ],
   "source": [
    "preds= clf.predict(X_valid)"
   ]
  },
  {
   "cell_type": "code",
   "execution_count": 82,
   "metadata": {
    "colab": {
     "base_uri": "https://localhost:8080/",
     "height": 175
    },
    "colab_type": "code",
    "id": "r9YGNZnGJUdS",
    "outputId": "e3023078-20a5-49fc-9a3b-e28018371a34"
   },
   "outputs": [
    {
     "name": "stdout",
     "output_type": "stream",
     "text": [
      "              precision    recall  f1-score   support\n",
      "\n",
      "          -1       0.79      0.69      0.74     30149\n",
      "           1       0.72      0.81      0.76     29851\n",
      "\n",
      "    accuracy                           0.75     60000\n",
      "   macro avg       0.75      0.75      0.75     60000\n",
      "weighted avg       0.75      0.75      0.75     60000\n",
      "\n"
     ]
    }
   ],
   "source": [
    "print(classification_report(y_valid, preds))"
   ]
  },
  {
   "cell_type": "code",
   "execution_count": 83,
   "metadata": {
    "colab": {
     "base_uri": "https://localhost:8080/",
     "height": 34
    },
    "colab_type": "code",
    "id": "gqIRw1PTJUdb",
    "outputId": "745a006d-ee28-473b-b8bd-0668fef4623b"
   },
   "outputs": [
    {
     "name": "stdout",
     "output_type": "stream",
     "text": [
      "0.7503833333333333\n"
     ]
    }
   ],
   "source": [
    "print(accuracy_score(y_valid,preds))"
   ]
  },
  {
   "cell_type": "markdown",
   "metadata": {
    "colab_type": "text",
    "id": "Gp2xUuskJUdd"
   },
   "source": [
    "Now, test data from competition (again)"
   ]
  },
  {
   "cell_type": "code",
   "execution_count": 84,
   "metadata": {
    "colab": {},
    "colab_type": "code",
    "id": "HF5TqVtGJUdi"
   },
   "outputs": [],
   "source": [
    "test_sentences = create_sent_embeddings_stanford(os.path.join(DATA_PATH, 'test_data.txt'))"
   ]
  },
  {
   "cell_type": "code",
   "execution_count": 85,
   "metadata": {
    "colab": {
     "base_uri": "https://localhost:8080/",
     "height": 52
    },
    "colab_type": "code",
    "id": "MGsSwnx9JUdk",
    "outputId": "114c9cb1-9135-45e0-9903-1fca7f7b8d0b"
   },
   "outputs": [
    {
     "name": "stderr",
     "output_type": "stream",
     "text": [
      "[Parallel(n_jobs=1)]: Using backend SequentialBackend with 1 concurrent workers.\n",
      "[Parallel(n_jobs=1)]: Done 156 out of 156 | elapsed:    0.5s finished\n"
     ]
    }
   ],
   "source": [
    "test_embeddings = np.array(test_sentences)\n",
    "test_predictions = clf.predict(test_embeddings)"
   ]
  },
  {
   "cell_type": "code",
   "execution_count": 86,
   "metadata": {
    "colab": {},
    "colab_type": "code",
    "id": "MXwmRQUWJUdm"
   },
   "outputs": [],
   "source": [
    "id_count = 1 \n",
    "output_arr = []\n",
    "for val in test_predictions:\n",
    "    #print(id_count, val)\n",
    "    output_arr.append([id_count, val])\n",
    "    id_count+=1"
   ]
  },
  {
   "cell_type": "code",
   "execution_count": 87,
   "metadata": {
    "colab": {
     "base_uri": "https://localhost:8080/",
     "height": 34
    },
    "colab_type": "code",
    "id": "OHi5BI7T4dL5",
    "outputId": "67474959-c09d-49ea-cd8f-47e790e7b1be"
   },
   "outputs": [
    {
     "data": {
      "text/plain": [
       "10000"
      ]
     },
     "execution_count": 87,
     "metadata": {
      "tags": []
     },
     "output_type": "execute_result"
    }
   ],
   "source": [
    "len(output_arr)"
   ]
  },
  {
   "cell_type": "code",
   "execution_count": 88,
   "metadata": {
    "colab": {},
    "colab_type": "code",
    "id": "tAn4NrB3JUdp"
   },
   "outputs": [],
   "source": [
    "output_df = pd.DataFrame(np.array(output_arr))\n",
    "output_df.columns=[\"Id\", \"Prediction\"]\n",
    "output_df.set_index('Id', inplace=True)\n",
    "output_df.to_csv(\"predfiles/Predictions_Stanford_GloVe_RFC.csv\")"
   ]
  },
  {
   "cell_type": "code",
   "execution_count": null,
   "metadata": {
    "colab": {},
    "colab_type": "code",
    "id": "DLHZp4zIJUdr"
   },
   "outputs": [],
   "source": []
  },
  {
   "cell_type": "code",
   "execution_count": null,
   "metadata": {
    "colab": {},
    "colab_type": "code",
    "id": "exivEKaOJUdt"
   },
   "outputs": [],
   "source": []
  }
 ],
 "metadata": {
  "accelerator": "GPU",
  "colab": {
   "name": "GloVeClassifiers.ipynb",
   "provenance": [],
   "toc_visible": true
  },
  "kernelspec": {
   "display_name": "Python 3",
   "language": "python",
   "name": "python3"
  },
  "language_info": {
   "codemirror_mode": {
    "name": "ipython",
    "version": 3
   },
   "file_extension": ".py",
   "mimetype": "text/x-python",
   "name": "python",
   "nbconvert_exporter": "python",
   "pygments_lexer": "ipython3",
   "version": "3.7.6-final"
  }
 },
 "nbformat": 4,
 "nbformat_minor": 1
}