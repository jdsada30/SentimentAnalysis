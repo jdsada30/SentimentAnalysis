{
 "cells": [
  {
   "cell_type": "markdown",
   "metadata": {},
   "source": [
    "## Effect of Finetuning on Model Weights and Hidden States"
   ]
  },
  {
   "cell_type": "code",
   "execution_count": 1,
   "metadata": {
    "scrolled": false
   },
   "outputs": [
    {
     "name": "stdout",
     "output_type": "stream",
     "text": [
      "/cluster/home/rarade/cil-text-classification\n"
     ]
    }
   ],
   "source": [
    "%cd ~/cil-text-classification/ "
   ]
  },
  {
   "cell_type": "code",
   "execution_count": 2,
   "metadata": {},
   "outputs": [],
   "source": [
    "import numpy as np\n",
    "import pandas as pd\n",
    "from tqdm import tqdm_notebook as tqdm\n",
    "from matplotlib import pyplot as plt\n",
    "import matplotlib.colors as colors\n",
    "\n",
    "import torch\n",
    "from transformers import RobertaForSequenceClassification\n",
    "\n",
    "import pytorch_lightning as pl\n",
    "from pytorch_lightning import Trainer\n",
    "\n",
    "from core.utils.lime_utils import *\n",
    "from core.utils.helper import *\n",
    "from core.scripts.transformer import *"
   ]
  },
  {
   "cell_type": "code",
   "execution_count": 3,
   "metadata": {
    "scrolled": true
   },
   "outputs": [
    {
     "name": "stdout",
     "output_type": "stream",
     "text": [
      "Loading model  roberta-base\n"
     ]
    }
   ],
   "source": [
    "EXPERIMENT_PATH = '/cluster/scratch/rarade/roberta-25-06-2020/'\n",
    "\n",
    "model1 = load_model_from_experiment(EXPERIMENT_PATH)\n",
    "model2 = RobertaForSequenceClassification.from_pretrained('roberta-base')"
   ]
  },
  {
   "cell_type": "code",
   "execution_count": 4,
   "metadata": {
    "scrolled": false
   },
   "outputs": [],
   "source": [
    "def show_plot(res, title='Change in model weights'):\n",
    "    res = np.around(res, 6)\n",
    "    if len(res.shape) == 1:\n",
    "        res = res.reshape(-1, 1)\n",
    "    \n",
    "    plt.figure(figsize=(8, 5))\n",
    "    fig, ax = plt.subplots()\n",
    "    im = ax.imshow(res, cmap='Greens', interpolation='none')\n",
    "    \n",
    "    ax.set_yticks(np.arange(0, len(res), step=1))\n",
    "    ax.set_yticklabels(np.arange(1, len(res)+1, step=1))\n",
    "    if len(res.shape) > 1 and res.shape[1] != 1:\n",
    "        ax.set_xticks(np.arange(0, len(res), step=1))\n",
    "        ax.set_xticklabels(np.arange(1, len(res)+1, step=1))\n",
    "    else: \n",
    "        ax.set_xticks([])\n",
    "    cbar = fig.colorbar(im)\n",
    "\n",
    "# define some parameters to make it work\n",
    "model1.total_steps = 15000\n",
    "model1.trained = True\n",
    "model1.hparams.log_dir = '/cluster/scratch/rarade/tmp/'\n",
    "\n",
    "seed()"
   ]
  },
  {
   "cell_type": "markdown",
   "metadata": {},
   "source": [
    "### Effect of Finetuning on Model Weights"
   ]
  },
  {
   "cell_type": "code",
   "execution_count": 5,
   "metadata": {},
   "outputs": [
    {
     "data": {
      "text/plain": [
       "<Figure size 576x360 with 0 Axes>"
      ]
     },
     "metadata": {},
     "output_type": "display_data"
    },
    {
     "data": {
      "image/png": "[encoded data removed]",
      "text/plain": [
       "<Figure size 432x288 with 2 Axes>"
      ]
     },
     "metadata": {
      "needs_background": "light"
     },
     "output_type": "display_data"
    }
   ],
   "source": [
    "diffs = torch.zeros(12)\n",
    "\n",
    "for i in range(0, 12):\n",
    "    for (name1, param1), (name2, param2) in zip(model1.model.roberta.encoder.layer[i].named_parameters(), \n",
    "                                                model2.roberta.encoder.layer[i].named_parameters()):   \n",
    "        with torch.no_grad():\n",
    "            diffs[i] += torch.norm((param1/torch.norm(param1, p='fro'))-(param2/torch.norm(param2, p='fro')), p='fro')\n",
    "    \n",
    "show_plot(diffs.detach().numpy())"
   ]
  },
  {
   "cell_type": "code",
   "execution_count": null,
   "metadata": {},
   "outputs": [],
   "source": []
  }
 ],
 "metadata": {
  "kernelspec": {
   "display_name": "torch",
   "language": "python",
   "name": "torch"
  },
  "language_info": {
   "codemirror_mode": {
    "name": "ipython",
    "version": 3
   },
   "file_extension": ".py",
   "mimetype": "text/x-python",
   "name": "python",
   "nbconvert_exporter": "python",
   "pygments_lexer": "ipython3",
   "version": "3.7.4"
  }
 },
 "nbformat": 4,
 "nbformat_minor": 4
}
