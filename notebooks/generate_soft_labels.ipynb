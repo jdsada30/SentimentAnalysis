{
 "cells": [
  {
   "cell_type": "markdown",
   "metadata": {},
   "source": [
    "## Generate Soft Labels"
   ]
  },
  {
   "cell_type": "code",
   "execution_count": 1,
   "metadata": {
    "ExecuteTime": {
     "end_time": "2020-07-10T10:37:34.312962Z",
     "start_time": "2020-07-10T10:37:34.308918Z"
    },
    "scrolled": true
   },
   "outputs": [
    {
     "name": "stdout",
     "output_type": "stream",
     "text": [
      "/home/rahul/Documents/ETH/FS20/CIL/Project/cil-text-classification-2020\n"
     ]
    }
   ],
   "source": [
    "%cd ../"
   ]
  },
  {
   "cell_type": "code",
   "execution_count": 2,
   "metadata": {
    "ExecuteTime": {
     "end_time": "2020-07-10T10:37:34.870536Z",
     "start_time": "2020-07-10T10:37:34.507985Z"
    }
   },
   "outputs": [],
   "source": [
    "import os\n",
    "import numpy as np\n",
    "import pandas as pd\n",
    "\n",
    "from scipy.special import softmax\n",
    "\n",
    "from core.data.definitions import *\n",
    "from core.data.io import *"
   ]
  },
  {
   "cell_type": "code",
   "execution_count": 3,
   "metadata": {
    "ExecuteTime": {
     "end_time": "2020-07-10T10:37:41.093776Z",
     "start_time": "2020-07-10T10:37:35.769090Z"
    }
   },
   "outputs": [
    {
     "data": {
      "text/html": [
       "<div>\n",
       "<style scoped>\n",
       "    .dataframe tbody tr th:only-of-type {\n",
       "        vertical-align: middle;\n",
       "    }\n",
       "\n",
       "    .dataframe tbody tr th {\n",
       "        vertical-align: top;\n",
       "    }\n",
       "\n",
       "    .dataframe thead th {\n",
       "        text-align: right;\n",
       "    }\n",
       "</style>\n",
       "<table border=\"1\" class=\"dataframe\">\n",
       "  <thead>\n",
       "    <tr style=\"text-align: right;\">\n",
       "      <th></th>\n",
       "      <th>text</th>\n",
       "      <th>y</th>\n",
       "    </tr>\n",
       "  </thead>\n",
       "  <tbody>\n",
       "    <tr>\n",
       "      <td>0</td>\n",
       "      <td>&lt; user &gt; but we are in love you r my smoothie ...</td>\n",
       "      <td>0</td>\n",
       "    </tr>\n",
       "    <tr>\n",
       "      <td>1</td>\n",
       "      <td>not dealing with that bs anymore getn off twit...</td>\n",
       "      <td>1</td>\n",
       "    </tr>\n",
       "    <tr>\n",
       "      <td>2</td>\n",
       "      <td>&lt; user &gt; hmmm not really bro ... will release ...</td>\n",
       "      <td>1</td>\n",
       "    </tr>\n",
       "    <tr>\n",
       "      <td>3</td>\n",
       "      <td>2012 pretty rope nursing nightgown in organic ...</td>\n",
       "      <td>0</td>\n",
       "    </tr>\n",
       "    <tr>\n",
       "      <td>4</td>\n",
       "      <td>vampire diaries only has 4 more episodes left ...</td>\n",
       "      <td>0</td>\n",
       "    </tr>\n",
       "  </tbody>\n",
       "</table>\n",
       "</div>"
      ],
      "text/plain": [
       "                                                text  y\n",
       "0  < user > but we are in love you r my smoothie ...  0\n",
       "1  not dealing with that bs anymore getn off twit...  1\n",
       "2  < user > hmmm not really bro ... will release ...  1\n",
       "3  2012 pretty rope nursing nightgown in organic ...  0\n",
       "4  vampire diaries only has 4 more episodes left ...  0"
      ]
     },
     "execution_count": 3,
     "metadata": {},
     "output_type": "execute_result"
    }
   ],
   "source": [
    "EXPERIMENT_DIR = '../logs-cil-text/bertweet-09-07-2020' # path to teacher model logs\n",
    "\n",
    "train, _ = load_datasets('in/', clean=True, full=True)\n",
    "train_preds = pd.read_csv(EXPERIMENT_DIR+'/train_with_logits.csv')\n",
    "\n",
    "train.head()"
   ]
  },
  {
   "cell_type": "code",
   "execution_count": 4,
   "metadata": {
    "ExecuteTime": {
     "end_time": "2020-07-10T10:37:42.283740Z",
     "start_time": "2020-07-10T10:37:41.095153Z"
    }
   },
   "outputs": [
    {
     "data": {
      "text/html": [
       "<div>\n",
       "<style scoped>\n",
       "    .dataframe tbody tr th:only-of-type {\n",
       "        vertical-align: middle;\n",
       "    }\n",
       "\n",
       "    .dataframe tbody tr th {\n",
       "        vertical-align: top;\n",
       "    }\n",
       "\n",
       "    .dataframe thead th {\n",
       "        text-align: right;\n",
       "    }\n",
       "</style>\n",
       "<table border=\"1\" class=\"dataframe\">\n",
       "  <thead>\n",
       "    <tr style=\"text-align: right;\">\n",
       "      <th></th>\n",
       "      <th>Id</th>\n",
       "      <th>Prediction</th>\n",
       "      <th>NegativeLogits</th>\n",
       "      <th>PositiveLogits</th>\n",
       "    </tr>\n",
       "  </thead>\n",
       "  <tbody>\n",
       "    <tr>\n",
       "      <td>583827</td>\n",
       "      <td>0</td>\n",
       "      <td>1</td>\n",
       "      <td>0.317286</td>\n",
       "      <td>0.682714</td>\n",
       "    </tr>\n",
       "    <tr>\n",
       "      <td>1676251</td>\n",
       "      <td>1</td>\n",
       "      <td>1</td>\n",
       "      <td>0.186147</td>\n",
       "      <td>0.813853</td>\n",
       "    </tr>\n",
       "    <tr>\n",
       "      <td>468829</td>\n",
       "      <td>2</td>\n",
       "      <td>1</td>\n",
       "      <td>0.014347</td>\n",
       "      <td>0.985653</td>\n",
       "    </tr>\n",
       "    <tr>\n",
       "      <td>1135531</td>\n",
       "      <td>3</td>\n",
       "      <td>-1</td>\n",
       "      <td>0.999726</td>\n",
       "      <td>0.000274</td>\n",
       "    </tr>\n",
       "    <tr>\n",
       "      <td>170910</td>\n",
       "      <td>4</td>\n",
       "      <td>-1</td>\n",
       "      <td>0.999463</td>\n",
       "      <td>0.000537</td>\n",
       "    </tr>\n",
       "  </tbody>\n",
       "</table>\n",
       "</div>"
      ],
      "text/plain": [
       "         Id  Prediction  NegativeLogits  PositiveLogits\n",
       "583827    0           1        0.317286        0.682714\n",
       "1676251   1           1        0.186147        0.813853\n",
       "468829    2           1        0.014347        0.985653\n",
       "1135531   3          -1        0.999726        0.000274\n",
       "170910    4          -1        0.999463        0.000537"
      ]
     },
     "execution_count": 4,
     "metadata": {},
     "output_type": "execute_result"
    }
   ],
   "source": [
    "preds = train_preds[['NegativeLogits', 'PositiveLogits']].values\n",
    "preds = softmax(preds, axis=1)\n",
    "\n",
    "train_preds['Id'] = train_preds['Id'] - 1\n",
    "train_preds[['NegativeLogits', 'PositiveLogits']] = preds\n",
    "train_preds.sort_values('Id', inplace=True)\n",
    "train_preds.head()"
   ]
  },
  {
   "cell_type": "code",
   "execution_count": 5,
   "metadata": {
    "ExecuteTime": {
     "end_time": "2020-07-10T10:37:42.293204Z",
     "start_time": "2020-07-10T10:37:42.286533Z"
    }
   },
   "outputs": [],
   "source": [
    "train_preds.set_index('Id', inplace=True)"
   ]
  },
  {
   "cell_type": "code",
   "execution_count": 6,
   "metadata": {
    "ExecuteTime": {
     "end_time": "2020-07-10T10:37:42.463453Z",
     "start_time": "2020-07-10T10:37:42.295830Z"
    }
   },
   "outputs": [
    {
     "data": {
      "text/html": [
       "<div>\n",
       "<style scoped>\n",
       "    .dataframe tbody tr th:only-of-type {\n",
       "        vertical-align: middle;\n",
       "    }\n",
       "\n",
       "    .dataframe tbody tr th {\n",
       "        vertical-align: top;\n",
       "    }\n",
       "\n",
       "    .dataframe thead th {\n",
       "        text-align: right;\n",
       "    }\n",
       "</style>\n",
       "<table border=\"1\" class=\"dataframe\">\n",
       "  <thead>\n",
       "    <tr style=\"text-align: right;\">\n",
       "      <th></th>\n",
       "      <th>text</th>\n",
       "      <th>y</th>\n",
       "      <th>soft_y</th>\n",
       "    </tr>\n",
       "  </thead>\n",
       "  <tbody>\n",
       "    <tr>\n",
       "      <td>0</td>\n",
       "      <td>&lt; user &gt; but we are in love you r my smoothie ...</td>\n",
       "      <td>0</td>\n",
       "      <td>0.682714</td>\n",
       "    </tr>\n",
       "    <tr>\n",
       "      <td>1</td>\n",
       "      <td>not dealing with that bs anymore getn off twit...</td>\n",
       "      <td>1</td>\n",
       "      <td>0.813853</td>\n",
       "    </tr>\n",
       "    <tr>\n",
       "      <td>2</td>\n",
       "      <td>&lt; user &gt; hmmm not really bro ... will release ...</td>\n",
       "      <td>1</td>\n",
       "      <td>0.985653</td>\n",
       "    </tr>\n",
       "    <tr>\n",
       "      <td>3</td>\n",
       "      <td>2012 pretty rope nursing nightgown in organic ...</td>\n",
       "      <td>0</td>\n",
       "      <td>0.000274</td>\n",
       "    </tr>\n",
       "    <tr>\n",
       "      <td>4</td>\n",
       "      <td>vampire diaries only has 4 more episodes left ...</td>\n",
       "      <td>0</td>\n",
       "      <td>0.000537</td>\n",
       "    </tr>\n",
       "  </tbody>\n",
       "</table>\n",
       "</div>"
      ],
      "text/plain": [
       "                                                text  y    soft_y\n",
       "0  < user > but we are in love you r my smoothie ...  0  0.682714\n",
       "1  not dealing with that bs anymore getn off twit...  1  0.813853\n",
       "2  < user > hmmm not really bro ... will release ...  1  0.985653\n",
       "3  2012 pretty rope nursing nightgown in organic ...  0  0.000274\n",
       "4  vampire diaries only has 4 more episodes left ...  0  0.000537"
      ]
     },
     "execution_count": 6,
     "metadata": {},
     "output_type": "execute_result"
    }
   ],
   "source": [
    "train['soft_y'] = train['y']\n",
    "train.loc[train_preds.index, 'soft_y'] = train_preds['PositiveLogits']\n",
    "train.head()"
   ]
  },
  {
   "cell_type": "code",
   "execution_count": 7,
   "metadata": {
    "ExecuteTime": {
     "end_time": "2020-07-10T10:37:42.506235Z",
     "start_time": "2020-07-10T10:37:42.464915Z"
    }
   },
   "outputs": [
    {
     "data": {
      "text/html": [
       "<div>\n",
       "<style scoped>\n",
       "    .dataframe tbody tr th:only-of-type {\n",
       "        vertical-align: middle;\n",
       "    }\n",
       "\n",
       "    .dataframe tbody tr th {\n",
       "        vertical-align: top;\n",
       "    }\n",
       "\n",
       "    .dataframe thead th {\n",
       "        text-align: right;\n",
       "    }\n",
       "</style>\n",
       "<table border=\"1\" class=\"dataframe\">\n",
       "  <thead>\n",
       "    <tr style=\"text-align: right;\">\n",
       "      <th></th>\n",
       "      <th>text</th>\n",
       "      <th>y</th>\n",
       "      <th>soft_y</th>\n",
       "    </tr>\n",
       "  </thead>\n",
       "  <tbody>\n",
       "    <tr>\n",
       "      <td>0</td>\n",
       "      <td>&lt; user &gt; but we are in love you r my smoothie ...</td>\n",
       "      <td>0</td>\n",
       "      <td>0.341309</td>\n",
       "    </tr>\n",
       "    <tr>\n",
       "      <td>1</td>\n",
       "      <td>not dealing with that bs anymore getn off twit...</td>\n",
       "      <td>1</td>\n",
       "      <td>0.906738</td>\n",
       "    </tr>\n",
       "    <tr>\n",
       "      <td>2</td>\n",
       "      <td>&lt; user &gt; hmmm not really bro ... will release ...</td>\n",
       "      <td>1</td>\n",
       "      <td>0.992676</td>\n",
       "    </tr>\n",
       "    <tr>\n",
       "      <td>3</td>\n",
       "      <td>2012 pretty rope nursing nightgown in organic ...</td>\n",
       "      <td>0</td>\n",
       "      <td>0.000137</td>\n",
       "    </tr>\n",
       "    <tr>\n",
       "      <td>4</td>\n",
       "      <td>vampire diaries only has 4 more episodes left ...</td>\n",
       "      <td>0</td>\n",
       "      <td>0.000268</td>\n",
       "    </tr>\n",
       "  </tbody>\n",
       "</table>\n",
       "</div>"
      ],
      "text/plain": [
       "                                                text  y    soft_y\n",
       "0  < user > but we are in love you r my smoothie ...  0  0.341309\n",
       "1  not dealing with that bs anymore getn off twit...  1  0.906738\n",
       "2  < user > hmmm not really bro ... will release ...  1  0.992676\n",
       "3  2012 pretty rope nursing nightgown in organic ...  0  0.000137\n",
       "4  vampire diaries only has 4 more episodes left ...  0  0.000268"
      ]
     },
     "execution_count": 7,
     "metadata": {},
     "output_type": "execute_result"
    }
   ],
   "source": [
    "train['soft_y'] = 0.5*train['y'] + 0.5*train['soft_y']\n",
    "train['soft_y'] = train['soft_y'].astype('float16')\n",
    "train.head()"
   ]
  },
  {
   "cell_type": "code",
   "execution_count": 8,
   "metadata": {
    "ExecuteTime": {
     "end_time": "2020-07-10T10:37:45.540724Z",
     "start_time": "2020-07-10T10:37:42.507636Z"
    }
   },
   "outputs": [],
   "source": [
    "train['soft_y'].to_csv('in/train_soft_labels.csv', index=False, header=['y'])"
   ]
  },
  {
   "cell_type": "code",
   "execution_count": null,
   "metadata": {},
   "outputs": [],
   "source": []
  }
 ],
 "metadata": {
  "kernelspec": {
   "display_name": "Python [conda env:.conda-ml] *",
   "language": "python",
   "name": "conda-env-.conda-ml-py"
  },
  "language_info": {
   "codemirror_mode": {
    "name": "ipython",
    "version": 3
   },
   "file_extension": ".py",
   "mimetype": "text/x-python",
   "name": "python",
   "nbconvert_exporter": "python",
   "pygments_lexer": "ipython3",
   "version": "3.6.9"
  }
 },
 "nbformat": 4,
 "nbformat_minor": 4
}
